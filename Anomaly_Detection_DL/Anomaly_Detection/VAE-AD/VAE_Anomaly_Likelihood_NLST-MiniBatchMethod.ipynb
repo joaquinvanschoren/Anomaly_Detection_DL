{
 "cells": [
  {
   "cell_type": "code",
   "execution_count": 1,
   "metadata": {},
   "outputs": [
    {
     "name": "stderr",
     "output_type": "stream",
     "text": [
      "Using TensorFlow backend.\n"
     ]
    }
   ],
   "source": [
    "from keras.models import model_from_json\n",
    "import pandas as pd\n",
    "import numpy as np"
   ]
  },
  {
   "cell_type": "code",
   "execution_count": 2,
   "metadata": {},
   "outputs": [],
   "source": [
    "import matplotlib.pyplot as plt"
   ]
  },
  {
   "cell_type": "code",
   "execution_count": 3,
   "metadata": {},
   "outputs": [],
   "source": [
    "import os\n",
    "os.environ[\"CUDA_VISIBLE_DEVICES\"] = \"2\""
   ]
  },
  {
   "cell_type": "code",
   "execution_count": 4,
   "metadata": {},
   "outputs": [],
   "source": [
    "import tensorflow as tf\n",
    "import keras.backend as K\n",
    "\n",
    "config = tf.ConfigProto()\n",
    "config.gpu_options.allow_growth = True\n",
    "sess = tf.Session(config=config)\n",
    "K.set_session(sess)"
   ]
  },
  {
   "cell_type": "code",
   "execution_count": 5,
   "metadata": {},
   "outputs": [
    {
     "name": "stdout",
     "output_type": "stream",
     "text": [
      "__________________________________________________________________________________________________\n",
      "Layer (type)                    Output Shape         Param #     Connected to                     \n",
      "==================================================================================================\n",
      "input (InputLayer)              (None, 1, 28, 28, 28 0                                            \n",
      "__________________________________________________________________________________________________\n",
      "conv1 (Conv3D)                  (None, 28, 28, 28, 2 252         input[0][0]                      \n",
      "__________________________________________________________________________________________________\n",
      "conv2 (Conv3D)                  (None, 64, 14, 14, 1 14400       conv1[0][0]                      \n",
      "__________________________________________________________________________________________________\n",
      "conv3 (Conv3D)                  (None, 64, 14, 14, 1 110656      conv2[0][0]                      \n",
      "__________________________________________________________________________________________________\n",
      "conv4 (Conv3D)                  (None, 64, 14, 14, 1 110656      conv3[0][0]                      \n",
      "__________________________________________________________________________________________________\n",
      "flatten1 (Flatten)              (None, 175616)       0           conv4[0][0]                      \n",
      "__________________________________________________________________________________________________\n",
      "hiden1 (Dense)                  (None, 128)          22478976    flatten1[0][0]                   \n",
      "__________________________________________________________________________________________________\n",
      "z_mean (Dense)                  (None, 10)           1290        hiden1[0][0]                     \n",
      "__________________________________________________________________________________________________\n",
      "z_log_var (Dense)               (None, 10)           1290        hiden1[0][0]                     \n",
      "__________________________________________________________________________________________________\n",
      "lambda_1 (Lambda)               (None, 10)           0           z_mean[0][0]                     \n",
      "                                                                 z_log_var[0][0]                  \n",
      "__________________________________________________________________________________________________\n",
      "decoder1 (Dense)                (None, 128)          1408        lambda_1[0][0]                   \n",
      "__________________________________________________________________________________________________\n",
      "decoder2 (Dense)                (None, 175616)       22654464    decoder1[0][0]                   \n",
      "__________________________________________________________________________________________________\n",
      "decoderReshape1 (Reshape)       (None, 64, 14, 14, 1 0           decoder2[0][0]                   \n",
      "__________________________________________________________________________________________________\n",
      "decoderUp1 (UpSampling3D)       (None, 64, 28, 28, 2 0           decoderReshape1[0][0]            \n",
      "__________________________________________________________________________________________________\n",
      "decoderUp2 (UpSampling3D)       (None, 64, 28, 28, 2 0           decoderUp1[0][0]                 \n",
      "__________________________________________________________________________________________________\n",
      "decoderUp3 (UpSampling3D)       (None, 64, 28, 28, 2 0           decoderUp2[0][0]                 \n",
      "__________________________________________________________________________________________________\n",
      "decoderConv1 (Conv3D)           (None, 1, 28, 28, 28 513         decoderUp3[0][0]                 \n",
      "==================================================================================================\n",
      "Total params: 45,373,905\n",
      "Trainable params: 45,373,905\n",
      "Non-trainable params: 0\n",
      "__________________________________________________________________________________________________\n"
     ]
    }
   ],
   "source": [
    "#batch_size = 2\n",
    "\n",
    "model_file = 'VAE_3D_finalLoss__model.json'\n",
    "weights_file = 'VAE_3D_finalLoss_weights.hdf5'\n",
    "\n",
    " # load json and create model\n",
    "json_file = open(model_file, 'r')\n",
    "loaded_model_json = json_file.read()\n",
    "json_file.close()\n",
    "vae_model = model_from_json(loaded_model_json)\n",
    "\n",
    "vae_model.load_weights(weights_file)\n",
    "\n",
    "vae_model.summary()"
   ]
  },
  {
   "cell_type": "code",
   "execution_count": null,
   "metadata": {},
   "outputs": [],
   "source": [
    "vae.outputs"
   ]
  },
  {
   "cell_type": "code",
   "execution_count": 6,
   "metadata": {},
   "outputs": [],
   "source": [
    "x_train_batch = np.load('../Data_handling/x_train_negativeOnly.npy')\n",
    "y_train_batch = np.load('../Data_handling/y_train_negativeOnly.npy')"
   ]
  },
  {
   "cell_type": "code",
   "execution_count": 7,
   "metadata": {},
   "outputs": [
    {
     "data": {
      "text/plain": [
       "(2200, 1, 28, 28, 28)"
      ]
     },
     "execution_count": 7,
     "metadata": {},
     "output_type": "execute_result"
    }
   ],
   "source": [
    "x_train_batch.shape"
   ]
  },
  {
   "cell_type": "code",
   "execution_count": 8,
   "metadata": {},
   "outputs": [],
   "source": [
    "x_nodule = x_train_batch[:2200]\n",
    "y_nodule = y_train_batch[:2200] \n",
    "\n"
   ]
  },
  {
   "cell_type": "code",
   "execution_count": 9,
   "metadata": {},
   "outputs": [],
   "source": [
    "ineg = np.where(y_nodule == 0)\n",
    "ipos = np.where(y_nodule == 1) "
   ]
  },
  {
   "cell_type": "code",
   "execution_count": 10,
   "metadata": {},
   "outputs": [],
   "source": [
    "x_nodule_neg = x_nodule[ineg]\n",
    "x_nodule_pos = x_nodule[ipos]"
   ]
  },
  {
   "cell_type": "code",
   "execution_count": 11,
   "metadata": {},
   "outputs": [
    {
     "data": {
      "text/plain": [
       "(1741, 1, 28, 28, 28)"
      ]
     },
     "execution_count": 11,
     "metadata": {},
     "output_type": "execute_result"
    }
   ],
   "source": [
    "x_nodule_neg.shape"
   ]
  },
  {
   "cell_type": "code",
   "execution_count": 91,
   "metadata": {},
   "outputs": [
    {
     "data": {
      "text/plain": [
       "(450, 1, 28, 28, 28)"
      ]
     },
     "execution_count": 91,
     "metadata": {},
     "output_type": "execute_result"
    }
   ],
   "source": [
    "x_nodule_pos.shape"
   ]
  },
  {
   "cell_type": "code",
   "execution_count": 93,
   "metadata": {},
   "outputs": [
    {
     "data": {
      "text/plain": [
       "(450, 1, 28, 28, 28)"
      ]
     },
     "execution_count": 93,
     "metadata": {},
     "output_type": "execute_result"
    }
   ],
   "source": [
    "x_pred.shape"
   ]
  },
  {
   "cell_type": "code",
   "execution_count": 12,
   "metadata": {},
   "outputs": [],
   "source": [
    "x_nodule_pos = x_nodule_pos[:450]\n",
    "x_nodule_neg = x_nodule_neg[:450]"
   ]
  },
  {
   "cell_type": "code",
   "execution_count": null,
   "metadata": {},
   "outputs": [],
   "source": [
    "x_nodule_neg_test = x_nodule_neg[-450:]"
   ]
  },
  {
   "cell_type": "code",
   "execution_count": 92,
   "metadata": {},
   "outputs": [],
   "source": [
    "x_pred = vae_model.predict(x_nodule_neg, batch_size=25)"
   ]
  },
  {
   "cell_type": "code",
   "execution_count": 100,
   "metadata": {},
   "outputs": [],
   "source": [
    "def plot_pred(element, rows, cols):\n",
    "    #print('Number {}'.format(generated_images_label[element]))\n",
    "    plt.figure(figsize=(10, 10))\n",
    "    plt.figure(1)\n",
    "    for idx in range(rows * cols):\n",
    "        plt.subplot(rows, cols, idx + 1)\n",
    "        plt.axis('off')\n",
    "        plt.imshow(x_pred[element, 0, idx], cmap=plt.get_cmap('gray'))\n",
    "    plt.show()"
   ]
  },
  {
   "cell_type": "code",
   "execution_count": 101,
   "metadata": {},
   "outputs": [],
   "source": [
    "def plot_origi(element, rows, cols):\n",
    "    #print('Number {}'.format(generated_images_label[element]))\n",
    "    plt.figure(figsize=(10, 10))\n",
    "    plt.figure(1)\n",
    "    for idx in range(rows * cols):\n",
    "        plt.subplot(rows, cols, idx + 1)\n",
    "        plt.axis('off')\n",
    "        plt.imshow(x_nodule_neg[element, 0, idx], cmap=plt.get_cmap('gray'))\n",
    "    plt.show()"
   ]
  },
  {
   "cell_type": "code",
   "execution_count": 102,
   "metadata": {},
   "outputs": [
    {
     "data": {
      "image/png": "[encoded data removed]",
      "text/plain": [
       "<Figure size 720x720 with 25 Axes>"
      ]
     },
     "metadata": {},
     "output_type": "display_data"
    },
    {
     "data": {
      "image/png": "[encoded data removed]",
      "text/plain": [
       "<Figure size 720x720 with 25 Axes>"
      ]
     },
     "metadata": {},
     "output_type": "display_data"
    }
   ],
   "source": [
    "img = 400\n",
    "\n",
    "plot_pred(img,5,5)\n",
    "plot_origi(img,5,5)"
   ]
  },
  {
   "cell_type": "code",
   "execution_count": null,
   "metadata": {},
   "outputs": [],
   "source": [
    "plot_origi(4,5,5)"
   ]
  },
  {
   "cell_type": "markdown",
   "metadata": {},
   "source": [
    "## Analysis of loss"
   ]
  },
  {
   "cell_type": "code",
   "execution_count": 103,
   "metadata": {},
   "outputs": [],
   "source": [
    "try:\n",
    "    import cPickle as pickle\n",
    "except ImportError:\n",
    "    import pickle\n",
    "import matplotlib.pyplot as plt"
   ]
  },
  {
   "cell_type": "code",
   "execution_count": 104,
   "metadata": {},
   "outputs": [],
   "source": [
    "folder = 'VAE_3D_finalLoss_history.pkl'  \n",
    "with open(r\"{}\".format(folder), \"rb\") as input_file:\n",
    "    hist = pickle.load(input_file)"
   ]
  },
  {
   "cell_type": "code",
   "execution_count": 105,
   "metadata": {},
   "outputs": [
    {
     "data": {
      "text/plain": [
       "dict_keys(['kl_loss_f', 'mean_squared_error', 'reconstruction_error_f', 'loss'])"
      ]
     },
     "execution_count": 105,
     "metadata": {},
     "output_type": "execute_result"
    }
   ],
   "source": [
    "hist['train'].keys()"
   ]
  },
  {
   "cell_type": "code",
   "execution_count": 138,
   "metadata": {},
   "outputs": [],
   "source": [
    "def plot_loss(folder):\n",
    "    # load the loss data\n",
    "    with open(r\"{}\".format(folder), \"rb\") as input_file:\n",
    "        hist = pickle.load(input_file)\n",
    "\n",
    "        # summarize history for loss\n",
    "    plt.plot(hist['train']['kl_loss_f'][1:])\n",
    "    #plt.plot(hit['train']['val_loss'])\n",
    "    plt.title('Reconstruction Error')\n",
    "    plt.ylabel('loss')\n",
    "    plt.xlabel('epoch')\n",
    "    plt.legend(['train', 'valid'])\n",
    "    plt.show()"
   ]
  },
  {
   "cell_type": "code",
   "execution_count": 139,
   "metadata": {},
   "outputs": [
    {
     "data": {
      "image/png": "[encoded data removed]",
      "text/plain": [
       "<Figure size 432x288 with 1 Axes>"
      ]
     },
     "metadata": {},
     "output_type": "display_data"
    }
   ],
   "source": [
    "plot_loss(folder)"
   ]
  },
  {
   "cell_type": "markdown",
   "metadata": {},
   "source": [
    "## Compiling and evaluating the model"
   ]
  },
  {
   "cell_type": "code",
   "execution_count": 13,
   "metadata": {},
   "outputs": [],
   "source": [
    "from keras.layers import Input, Dense, Lambda, Flatten, Reshape, Layer\n",
    "from keras import metrics\n",
    "from keras.losses import mse\n",
    "# keras imports\n",
    "from keras.models import Model, Sequential\n",
    "from keras.layers.merge import _Merge\n",
    "from keras.layers import Conv3D, MaxPooling3D, UpSampling3D\n",
    "from keras.layers.normalization import BatchNormalization\n",
    "from keras.layers.advanced_activations import LeakyReLU\n",
    "\n",
    "K.set_image_data_format('channels_first')\n",
    "\n"
   ]
  },
  {
   "cell_type": "markdown",
   "metadata": {},
   "source": [
    "## create model only with input and output z_mean and z_log_var"
   ]
  },
  {
   "cell_type": "code",
   "execution_count": 14,
   "metadata": {},
   "outputs": [
    {
     "name": "stdout",
     "output_type": "stream",
     "text": [
      "__________________________________________________________________________________________________\n",
      "Layer (type)                    Output Shape         Param #     Connected to                     \n",
      "==================================================================================================\n",
      "input (InputLayer)              (None, 1, 28, 28, 28 0                                            \n",
      "__________________________________________________________________________________________________\n",
      "conv1 (Conv3D)                  (None, 28, 28, 28, 2 252         input[0][0]                      \n",
      "__________________________________________________________________________________________________\n",
      "conv2 (Conv3D)                  (None, 64, 14, 14, 1 14400       conv1[0][0]                      \n",
      "__________________________________________________________________________________________________\n",
      "conv3 (Conv3D)                  (None, 64, 14, 14, 1 110656      conv2[0][0]                      \n",
      "__________________________________________________________________________________________________\n",
      "conv4 (Conv3D)                  (None, 64, 14, 14, 1 110656      conv3[0][0]                      \n",
      "__________________________________________________________________________________________________\n",
      "flatten1 (Flatten)              (None, 175616)       0           conv4[0][0]                      \n",
      "__________________________________________________________________________________________________\n",
      "hiden1 (Dense)                  (None, 128)          22478976    flatten1[0][0]                   \n",
      "__________________________________________________________________________________________________\n",
      "z_mean (Dense)                  (None, 10)           1290        hiden1[0][0]                     \n",
      "__________________________________________________________________________________________________\n",
      "z_log_var (Dense)               (None, 10)           1290        hiden1[0][0]                     \n",
      "__________________________________________________________________________________________________\n",
      "lambda_1 (Lambda)               (None, 10)           0           z_mean[0][0]                     \n",
      "                                                                 z_log_var[0][0]                  \n",
      "==================================================================================================\n",
      "Total params: 22,717,520\n",
      "Trainable params: 22,717,520\n",
      "Non-trainable params: 0\n",
      "__________________________________________________________________________________________________\n",
      "__________________________________________________________________________________________________\n",
      "Layer (type)                    Output Shape         Param #     Connected to                     \n",
      "==================================================================================================\n",
      "input (InputLayer)              (None, 1, 28, 28, 28 0                                            \n",
      "__________________________________________________________________________________________________\n",
      "conv1 (Conv3D)                  (None, 28, 28, 28, 2 252         input[0][0]                      \n",
      "__________________________________________________________________________________________________\n",
      "conv2 (Conv3D)                  (None, 64, 14, 14, 1 14400       conv1[0][0]                      \n",
      "__________________________________________________________________________________________________\n",
      "conv3 (Conv3D)                  (None, 64, 14, 14, 1 110656      conv2[0][0]                      \n",
      "__________________________________________________________________________________________________\n",
      "conv4 (Conv3D)                  (None, 64, 14, 14, 1 110656      conv3[0][0]                      \n",
      "__________________________________________________________________________________________________\n",
      "flatten1 (Flatten)              (None, 175616)       0           conv4[0][0]                      \n",
      "__________________________________________________________________________________________________\n",
      "hiden1 (Dense)                  (None, 128)          22478976    flatten1[0][0]                   \n",
      "__________________________________________________________________________________________________\n",
      "z_mean (Dense)                  (None, 10)           1290        hiden1[0][0]                     \n",
      "__________________________________________________________________________________________________\n",
      "z_log_var (Dense)               (None, 10)           1290        hiden1[0][0]                     \n",
      "__________________________________________________________________________________________________\n",
      "lambda_1 (Lambda)               (None, 10)           0           z_mean[0][0]                     \n",
      "                                                                 z_log_var[0][0]                  \n",
      "__________________________________________________________________________________________________\n",
      "decoder1 (Dense)                (None, 128)          1408        lambda_1[0][0]                   \n",
      "__________________________________________________________________________________________________\n",
      "decoder2 (Dense)                (None, 175616)       22654464    decoder1[0][0]                   \n",
      "__________________________________________________________________________________________________\n",
      "decoderReshape1 (Reshape)       (None, 64, 14, 14, 1 0           decoder2[0][0]                   \n",
      "__________________________________________________________________________________________________\n",
      "decoderUp1 (UpSampling3D)       (None, 64, 28, 28, 2 0           decoderReshape1[0][0]            \n",
      "__________________________________________________________________________________________________\n",
      "decoderUp2 (UpSampling3D)       (None, 64, 28, 28, 2 0           decoderUp1[0][0]                 \n",
      "__________________________________________________________________________________________________\n",
      "decoderUp3 (UpSampling3D)       (None, 64, 28, 28, 2 0           decoderUp2[0][0]                 \n",
      "__________________________________________________________________________________________________\n",
      "decoderConv1 (Conv3D)           (None, 1, 28, 28, 28 513         decoderUp3[0][0]                 \n",
      "==================================================================================================\n",
      "Total params: 45,373,905\n",
      "Trainable params: 45,373,905\n",
      "Non-trainable params: 0\n",
      "__________________________________________________________________________________________________\n"
     ]
    }
   ],
   "source": [
    "# input image dimensions\n",
    "img_rows, img_cols, img_chns = 28, 28, 28\n",
    "# number of convolutional filters to use\n",
    "filters = 64\n",
    "# convolution kernel size\n",
    "num_conv = 3\n",
    "\n",
    "batch_size = 25\n",
    "if K.image_data_format() == 'channels_first':\n",
    "    original_img_size = (1, img_chns, img_rows, img_cols)\n",
    "else:\n",
    "    original_img_size = (img_rows, img_cols, img_chns, 1)\n",
    "latent_dim = 10\n",
    "intermediate_dim = 128\n",
    "epsilon_std = 1.0\n",
    "epochs = 100\n",
    "\n",
    "\n",
    "x = Input(batch_shape=(None,) + original_img_size, name='input')\n",
    "# x = Input(batch_shape=(None,) + original_img_size)\n",
    "conv_1 = Conv3D(img_chns,\n",
    "                kernel_size=(2, 2, 2),\n",
    "                padding='same', activation='relu', name='conv1')(x)\n",
    "conv_2 = Conv3D(filters,\n",
    "                kernel_size=(2, 2, 2),\n",
    "                padding='same', activation='relu',\n",
    "                strides=(2, 2, 2), name='conv2')(conv_1)\n",
    "conv_3 = Conv3D(filters,\n",
    "                kernel_size=num_conv,\n",
    "                padding='same', activation='relu',\n",
    "                strides=1, name='conv3')(conv_2)\n",
    "conv_4 = Conv3D(filters,\n",
    "                kernel_size=num_conv,\n",
    "                padding='same', activation='relu',\n",
    "                strides=1, name='conv4')(conv_3)\n",
    "flat = Flatten(name='flatten1')(conv_4) # change to conv to reduce the parameters nb\n",
    "hidden = Dense(intermediate_dim, activation='relu', name='hiden1')(flat)\n",
    "\n",
    "z_mean = Dense(latent_dim, name='z_mean')(hidden)\n",
    "z_log_var = Dense(latent_dim, name='z_log_var')(hidden)\n",
    "\n",
    "\n",
    "\n",
    "def sampling(args):\n",
    "    #batch_size = 25\n",
    "    #latent_dim = 10\n",
    "    #epsilon_std = 1.0 cant save the model using variables inside this function\n",
    "    z_mean, z_log_var = args\n",
    "    epsilon = K.random_normal(shape=(25, 10),\n",
    "                              mean=0., stddev=1.0)\n",
    "    return z_mean + K.exp(0.5 * z_log_var) * epsilon #multiply 0.5 !!!!\n",
    "\n",
    "# note that \"output_shape\" isn't necessary with the TensorFlow backend\n",
    "# so you could write `Lambda(sampling)([z_mean, z_log_var])`\n",
    "z = Lambda(sampling, output_shape=(latent_dim,))([z_mean, z_log_var])\n",
    "\n",
    "#Encoder\n",
    "encoder = Model(x, [z_mean, z_log_var, z], name='encoder')\n",
    "encoder.summary()\n",
    "\n",
    "# we instantiate these layers separately so as to reuse them later\n",
    "decoder_hid = Dense(intermediate_dim, activation='relu', name='decoder1')\n",
    "decoder_upsample = Dense(filters * 14 * 14 * 14, activation='relu', name='decoder2')\n",
    "\n",
    "if K.image_data_format() == 'channels_first':\n",
    "    output_shape = (None, filters, 14, 14, 14)\n",
    "else:\n",
    "    output_shape = (None, 14, 14, 14, filters)\n",
    "\n",
    "decoder_reshape = Reshape(output_shape[1:], name='decoderReshape1')\n",
    "decoder_deconv_1 = UpSampling3D(size=(2, 2, 2), name='decoderUp1')\n",
    "decoder_deconv_2 = UpSampling3D(size=(1, 1, 1), name='decoderUp2')\n",
    "if K.image_data_format() == 'channels_first':\n",
    "    output_shape = (None, filters, 29, 29, 29)\n",
    "else:\n",
    "    output_shape = (None, 29, 29, 29, filters)\n",
    "decoder_deconv_3_upsamp = UpSampling3D(size=(1, 1, 1), name='decoderUp3')\n",
    "decoder_mean_squash = Conv3D(1,\n",
    "                             kernel_size=2,\n",
    "                             padding='same',\n",
    "                             activation='sigmoid', name='decoderConv1')\n",
    "\n",
    "hid_decoded = decoder_hid(z)\n",
    "up_decoded = decoder_upsample(hid_decoded)\n",
    "reshape_decoded = decoder_reshape(up_decoded)\n",
    "deconv_1_decoded = decoder_deconv_1(reshape_decoded)\n",
    "deconv_2_decoded = decoder_deconv_2(deconv_1_decoded)\n",
    "x_decoded_relu = decoder_deconv_3_upsamp(deconv_2_decoded)\n",
    "x_decoded_mean_squash = decoder_mean_squash(x_decoded_relu)\n",
    "\n",
    "\n",
    "# definition of the losses as functions to be added in the compile - metrics of Keras\n",
    "# definition of the lossekl_losss as functions to be added in the compile - metrics of Keras\n",
    "def kl_loss_f(inputs,outputs):\n",
    "        # D_KL(Q(z|X) || P(z|X))\n",
    "    #z_mean, z_log_var = args\n",
    "    kl_loss_f = - 0.5 * K.sum(1 + z_log_var - K.square(z_mean) - K.exp(z_log_var), axis=-1)\n",
    "    return kl_loss_f\n",
    "\n",
    "\n",
    "def reconstruction_error_f(inputs, outputs):\n",
    "    # E[log P(X|z)]\n",
    "    inputs = K.flatten(inputs)\n",
    "    outputs = K.flatten(outputs)\n",
    "    reconstruction_loss_f =  img_rows * img_rows * mse(inputs,outputs)\n",
    "    #image_size * image_size * mse(inputs,outputs)\n",
    "    return reconstruction_loss_f\n",
    "\n",
    "\n",
    "# Loss to be optimized in the training\n",
    "\n",
    "def total_loss(inputs, outputs):\n",
    "    inputs = K.flatten(inputs)\n",
    "    outputs = K.flatten(outputs)\n",
    "    # log likelihood\n",
    "    reconstruction_loss =  img_rows * img_rows * mse(inputs,outputs)\n",
    "    #kl_loss_ = kl_loss(inputs,outputs)\n",
    "    kl_loss = - 0.5 * K.sum(1 + z_log_var - K.square(z_mean) - K.exp(z_log_var), axis=-1)\n",
    "    loss = K.mean(reconstruction_loss + kl_loss) #why is the mean?\n",
    "    return loss\n",
    "\n",
    "vae = Model(x, x_decoded_mean_squash)\n",
    "vae.compile(loss=total_loss, optimizer='rmsprop', metrics=[mse, kl_loss_f,reconstruction_error_f])\n",
    "vae.summary()"
   ]
  },
  {
   "cell_type": "markdown",
   "metadata": {},
   "source": [
    "## creating Encoder for z"
   ]
  },
  {
   "cell_type": "code",
   "execution_count": 110,
   "metadata": {},
   "outputs": [],
   "source": [
    "encoder = Model(x, [z_mean, z_log_var])"
   ]
  },
  {
   "cell_type": "code",
   "execution_count": null,
   "metadata": {},
   "outputs": [],
   "source": [
    "#encoder_1 = Model(x, z_mean)"
   ]
  },
  {
   "cell_type": "code",
   "execution_count": 111,
   "metadata": {},
   "outputs": [],
   "source": [
    "encoder.load_weights(weights_file, by_name=True)\n"
   ]
  },
  {
   "cell_type": "code",
   "execution_count": 112,
   "metadata": {},
   "outputs": [
    {
     "data": {
      "text/plain": [
       "(450, 1, 28, 28, 28)"
      ]
     },
     "execution_count": 112,
     "metadata": {},
     "output_type": "execute_result"
    }
   ],
   "source": [
    "x_nodule_neg.shape"
   ]
  },
  {
   "cell_type": "code",
   "execution_count": null,
   "metadata": {},
   "outputs": [],
   "source": [
    "#encoder.compile(loss=total_loss, optimizer='rmsprop', metrics=[mean_squared_error, kl_loss])"
   ]
  },
  {
   "cell_type": "code",
   "execution_count": null,
   "metadata": {},
   "outputs": [],
   "source": [
    "encoder_predict_neg = encoder.predict(x_nodule_neg) #predict for non cancer\n",
    "encoder_predict_pos = encoder.predict(x_nodule_pos) #predict for cancer "
   ]
  },
  {
   "cell_type": "code",
   "execution_count": 113,
   "metadata": {},
   "outputs": [],
   "source": [
    "vae.load_weights(weights_file)\n"
   ]
  },
  {
   "cell_type": "markdown",
   "metadata": {},
   "source": [
    "## update: compute the likelihood over L samples by passing the same image as a whole mini_batch (mini_batch.size = L) "
   ]
  },
  {
   "cell_type": "code",
   "execution_count": 24,
   "metadata": {},
   "outputs": [],
   "source": [
    "x_train_neg_ = x_nodule_neg[:100]\n",
    "x_train_pos_ = x_nodule_pos[:100]"
   ]
  },
  {
   "cell_type": "code",
   "execution_count": 25,
   "metadata": {},
   "outputs": [
    {
     "name": "stdout",
     "output_type": "stream",
     "text": [
      "100/100 [==============================] - 1s 8ms/step\n"
     ]
    }
   ],
   "source": [
    "L_datapoint_neg  = vae.evaluate(x_datapoint_neg, x_datapoint_neg, batch_size = 25)"
   ]
  },
  {
   "cell_type": "code",
   "execution_count": 26,
   "metadata": {},
   "outputs": [
    {
     "data": {
      "text/plain": [
       "[58.87547969818115,\n",
       " 0.07508176565170288,\n",
       " 0.011376768350601196,\n",
       " 58.86410331726074]"
      ]
     },
     "execution_count": 26,
     "metadata": {},
     "output_type": "execute_result"
    }
   ],
   "source": [
    "L_datapoint_neg"
   ]
  },
  {
   "cell_type": "code",
   "execution_count": 27,
   "metadata": {},
   "outputs": [
    {
     "name": "stdout",
     "output_type": "stream",
     "text": [
      "100/100 [==============================] - 1s 7ms/step\n",
      "100/100 [==============================] - 1s 7ms/step\n",
      "100/100 [==============================] - 1s 7ms/step\n",
      "100/100 [==============================] - 1s 7ms/step\n",
      "100/100 [==============================] - 1s 7ms/step\n",
      "100/100 [==============================] - 1s 7ms/step\n",
      "100/100 [==============================] - 1s 7ms/step\n",
      "100/100 [==============================] - 1s 7ms/step\n",
      "100/100 [==============================] - 1s 7ms/step\n",
      "100/100 [==============================] - 1s 7ms/step\n",
      "100/100 [==============================] - 1s 7ms/step\n",
      "100/100 [==============================] - 1s 7ms/step\n",
      "100/100 [==============================] - 1s 7ms/step\n",
      "100/100 [==============================] - 1s 7ms/step\n",
      "100/100 [==============================] - 1s 7ms/step\n",
      "100/100 [==============================] - 1s 7ms/step\n",
      "100/100 [==============================] - 1s 7ms/step\n",
      "100/100 [==============================] - 1s 7ms/step\n",
      "100/100 [==============================] - 1s 7ms/step\n",
      "100/100 [==============================] - 1s 7ms/step\n",
      "100/100 [==============================] - 1s 7ms/step\n",
      "100/100 [==============================] - 1s 7ms/step\n",
      "100/100 [==============================] - 1s 7ms/step\n",
      "100/100 [==============================] - 1s 7ms/step\n",
      "100/100 [==============================] - 1s 7ms/step\n",
      "100/100 [==============================] - 1s 7ms/step\n",
      "100/100 [==============================] - 1s 7ms/step\n",
      "100/100 [==============================] - 1s 7ms/step\n",
      "100/100 [==============================] - 1s 7ms/step\n",
      "100/100 [==============================] - 1s 7ms/step\n",
      "100/100 [==============================] - 1s 7ms/step\n",
      "100/100 [==============================] - 1s 7ms/step\n",
      "100/100 [==============================] - 1s 7ms/step\n",
      "100/100 [==============================] - 1s 7ms/step\n",
      "100/100 [==============================] - 1s 7ms/step\n",
      "100/100 [==============================] - 1s 7ms/step\n",
      "100/100 [==============================] - 1s 7ms/step\n",
      "100/100 [==============================] - 1s 7ms/step\n",
      "100/100 [==============================] - 1s 7ms/step\n",
      "100/100 [==============================] - 1s 7ms/step\n",
      "100/100 [==============================] - 1s 7ms/step\n",
      "100/100 [==============================] - 1s 7ms/step\n",
      "100/100 [==============================] - 1s 7ms/step\n",
      "100/100 [==============================] - 1s 7ms/step\n",
      "100/100 [==============================] - 1s 7ms/step\n",
      "100/100 [==============================] - 1s 7ms/step\n",
      "100/100 [==============================] - 1s 7ms/step\n",
      "100/100 [==============================] - 1s 7ms/step\n",
      "100/100 [==============================] - 1s 7ms/step\n",
      "100/100 [==============================] - 1s 7ms/step\n",
      "100/100 [==============================] - 1s 7ms/step\n",
      "100/100 [==============================] - 1s 7ms/step\n",
      "100/100 [==============================] - 1s 7ms/step\n",
      "100/100 [==============================] - 1s 7ms/step\n",
      "100/100 [==============================] - 1s 7ms/step\n",
      "100/100 [==============================] - 1s 7ms/step\n",
      "100/100 [==============================] - 1s 7ms/step\n",
      "100/100 [==============================] - 1s 7ms/step\n",
      "100/100 [==============================] - 1s 7ms/step\n",
      "100/100 [==============================] - 1s 7ms/step\n",
      "100/100 [==============================] - 1s 7ms/step\n",
      "100/100 [==============================] - 1s 7ms/step\n",
      "100/100 [==============================] - 1s 7ms/step\n",
      "100/100 [==============================] - 1s 7ms/step\n",
      "100/100 [==============================] - 1s 7ms/step\n",
      "100/100 [==============================] - 1s 7ms/step\n",
      "100/100 [==============================] - 1s 7ms/step\n",
      "100/100 [==============================] - 1s 7ms/step\n",
      "100/100 [==============================] - 1s 7ms/step\n",
      "100/100 [==============================] - 1s 7ms/step\n",
      "100/100 [==============================] - 1s 7ms/step\n",
      "100/100 [==============================] - 1s 7ms/step\n",
      "100/100 [==============================] - 1s 7ms/step\n",
      "100/100 [==============================] - 1s 7ms/step\n",
      "100/100 [==============================] - 1s 7ms/step\n",
      "100/100 [==============================] - 1s 7ms/step\n",
      "100/100 [==============================] - 1s 7ms/step\n",
      "100/100 [==============================] - 1s 7ms/step\n",
      "100/100 [==============================] - 1s 7ms/step\n",
      "100/100 [==============================] - 1s 7ms/step\n",
      "100/100 [==============================] - 1s 7ms/step\n",
      "100/100 [==============================] - 1s 7ms/step\n",
      "100/100 [==============================] - 1s 7ms/step\n",
      "100/100 [==============================] - 1s 7ms/step\n",
      "100/100 [==============================] - 1s 7ms/step\n",
      "100/100 [==============================] - 1s 7ms/step\n",
      "100/100 [==============================] - 1s 7ms/step\n",
      "100/100 [==============================] - 1s 7ms/step\n",
      "100/100 [==============================] - 1s 7ms/step\n",
      "100/100 [==============================] - 1s 7ms/step\n",
      "100/100 [==============================] - 1s 7ms/step\n",
      "100/100 [==============================] - 1s 7ms/step\n",
      "100/100 [==============================] - 1s 7ms/step\n",
      "100/100 [==============================] - 1s 7ms/step\n",
      "100/100 [==============================] - 1s 7ms/step\n",
      "100/100 [==============================] - 1s 7ms/step\n",
      "100/100 [==============================] - 1s 7ms/step\n",
      "100/100 [==============================] - 1s 7ms/step\n",
      "100/100 [==============================] - 1s 7ms/step\n",
      "100/100 [==============================] - 1s 7ms/step\n"
     ]
    }
   ],
   "source": [
    "#computing the score for all nodules \n",
    "#negative nodules \n",
    "l = 100 # number of repetition of the same nodule for creating a batch of it and compute the metrics l times\n",
    "L_log_neg =[]\n",
    "L_mse_neg = []\n",
    "for i in range(x_train_neg_.shape[0]):\n",
    "    x_datapoint_neg = np.vstack((x_train_neg_[[i]],)*l)\n",
    "    L_datapoint_neg  = vae.evaluate(x_datapoint_neg, x_datapoint_neg,batch_size = 25)\n",
    "\n",
    "    kl_loss_datapoint = L_datapoint_neg[2]\n",
    "    reconstruction_error_datapoint = L_datapoint_neg[3]\n",
    "    L_log_n = kl_loss_datapoint + reconstruction_error_datapoint\n",
    "    L_log_neg_ = L_log_neg.append(L_log_n)\n",
    "    L_mse_neg_ = L_mse_neg.append(L_datapoint_neg[1])"
   ]
  },
  {
   "cell_type": "code",
   "execution_count": 28,
   "metadata": {},
   "outputs": [
    {
     "name": "stdout",
     "output_type": "stream",
     "text": [
      "100/100 [==============================] - 1s 7ms/step\n",
      "100/100 [==============================] - 1s 7ms/step\n",
      "100/100 [==============================] - 1s 7ms/step\n",
      "100/100 [==============================] - 1s 7ms/step\n",
      "100/100 [==============================] - 1s 7ms/step\n",
      "100/100 [==============================] - 1s 7ms/step\n",
      "100/100 [==============================] - 1s 7ms/step\n",
      "100/100 [==============================] - 1s 7ms/step\n",
      "100/100 [==============================] - 1s 7ms/step\n",
      "100/100 [==============================] - 1s 7ms/step\n",
      "100/100 [==============================] - 1s 7ms/step\n",
      "100/100 [==============================] - 1s 7ms/step\n",
      "100/100 [==============================] - 1s 7ms/step\n",
      "100/100 [==============================] - 1s 7ms/step\n",
      "100/100 [==============================] - 1s 7ms/step\n",
      "100/100 [==============================] - 1s 7ms/step\n",
      "100/100 [==============================] - 1s 7ms/step\n",
      "100/100 [==============================] - 1s 7ms/step\n",
      "100/100 [==============================] - 1s 7ms/step\n",
      "100/100 [==============================] - 1s 7ms/step\n",
      "100/100 [==============================] - 1s 7ms/step\n",
      "100/100 [==============================] - 1s 7ms/step\n",
      "100/100 [==============================] - 1s 7ms/step\n",
      "100/100 [==============================] - 1s 7ms/step\n",
      "100/100 [==============================] - 1s 7ms/step\n",
      "100/100 [==============================] - 1s 7ms/step\n",
      "100/100 [==============================] - 1s 7ms/step\n",
      "100/100 [==============================] - 1s 7ms/step\n",
      "100/100 [==============================] - 1s 7ms/step\n",
      "100/100 [==============================] - 1s 7ms/step\n",
      "100/100 [==============================] - 1s 7ms/step\n",
      "100/100 [==============================] - 1s 7ms/step\n",
      "100/100 [==============================] - 1s 7ms/step\n",
      "100/100 [==============================] - 1s 7ms/step\n",
      "100/100 [==============================] - 1s 7ms/step\n",
      "100/100 [==============================] - 1s 7ms/step\n",
      "100/100 [==============================] - 1s 7ms/step\n",
      "100/100 [==============================] - 1s 7ms/step\n",
      "100/100 [==============================] - 1s 7ms/step\n",
      "100/100 [==============================] - 1s 7ms/step\n",
      "100/100 [==============================] - 1s 7ms/step\n",
      "100/100 [==============================] - 1s 7ms/step\n",
      "100/100 [==============================] - 1s 7ms/step\n",
      "100/100 [==============================] - 1s 7ms/step\n",
      "100/100 [==============================] - 1s 7ms/step\n",
      "100/100 [==============================] - 1s 7ms/step\n",
      "100/100 [==============================] - 1s 7ms/step\n",
      "100/100 [==============================] - 1s 7ms/step\n",
      "100/100 [==============================] - 1s 7ms/step\n",
      "100/100 [==============================] - 1s 7ms/step\n",
      "100/100 [==============================] - 1s 7ms/step\n",
      "100/100 [==============================] - 1s 7ms/step\n",
      "100/100 [==============================] - 1s 7ms/step\n",
      "100/100 [==============================] - 1s 7ms/step\n",
      "100/100 [==============================] - 1s 7ms/step\n",
      "100/100 [==============================] - 1s 7ms/step\n",
      "100/100 [==============================] - 1s 7ms/step\n",
      "100/100 [==============================] - 1s 7ms/step\n",
      "100/100 [==============================] - 1s 7ms/step\n",
      "100/100 [==============================] - 1s 7ms/step\n",
      "100/100 [==============================] - 1s 7ms/step\n",
      "100/100 [==============================] - 1s 7ms/step\n",
      "100/100 [==============================] - 1s 7ms/step\n",
      "100/100 [==============================] - 1s 7ms/step\n",
      "100/100 [==============================] - 1s 7ms/step\n",
      "100/100 [==============================] - 1s 7ms/step\n",
      "100/100 [==============================] - 1s 7ms/step\n",
      "100/100 [==============================] - 1s 7ms/step\n",
      "100/100 [==============================] - 1s 7ms/step\n",
      "100/100 [==============================] - 1s 7ms/step\n",
      "100/100 [==============================] - 1s 7ms/step\n",
      "100/100 [==============================] - 1s 7ms/step\n",
      "100/100 [==============================] - 1s 7ms/step\n",
      "100/100 [==============================] - 1s 7ms/step\n",
      "100/100 [==============================] - 1s 7ms/step\n",
      "100/100 [==============================] - 1s 7ms/step\n",
      "100/100 [==============================] - 1s 7ms/step\n",
      "100/100 [==============================] - 1s 7ms/step\n",
      "100/100 [==============================] - 1s 7ms/step\n",
      "100/100 [==============================] - 1s 7ms/step\n",
      "100/100 [==============================] - 1s 7ms/step\n",
      "100/100 [==============================] - 1s 7ms/step\n",
      "100/100 [==============================] - 1s 7ms/step\n",
      "100/100 [==============================] - 1s 7ms/step\n",
      "100/100 [==============================] - 1s 7ms/step\n",
      "100/100 [==============================] - 1s 7ms/step\n",
      "100/100 [==============================] - 1s 7ms/step\n",
      "100/100 [==============================] - 1s 7ms/step\n",
      "100/100 [==============================] - 1s 7ms/step\n",
      "100/100 [==============================] - 1s 7ms/step\n",
      "100/100 [==============================] - 1s 7ms/step\n",
      "100/100 [==============================] - 1s 7ms/step\n",
      "100/100 [==============================] - 1s 7ms/step\n",
      "100/100 [==============================] - 1s 7ms/step\n",
      "100/100 [==============================] - 1s 7ms/step\n",
      "100/100 [==============================] - 1s 7ms/step\n",
      "100/100 [==============================] - 1s 7ms/step\n",
      "100/100 [==============================] - 1s 7ms/step\n",
      "100/100 [==============================] - 1s 7ms/step\n",
      "100/100 [==============================] - 1s 7ms/step\n"
     ]
    }
   ],
   "source": [
    "#computing the score for all nodules \n",
    "#positive nodules \n",
    "L_log_pos =[]\n",
    "L_mse_pos = []\n",
    "for i in range(x_train_pos_.shape[0]):\n",
    "    x_datapoint_pos = np.vstack((x_train_pos_[[i]],)*l)\n",
    "    L_datapoint_pos  = vae.evaluate(x_datapoint_pos, x_datapoint_pos,batch_size = 25)\n",
    "\n",
    "    kl_loss_datapoint = L_datapoint_pos[2]\n",
    "    reconstruction_error_datapoint = L_datapoint_pos[3]\n",
    "    L_log_p = kl_loss_datapoint + reconstruction_error_datapoint\n",
    "    L_log_pos_ = L_log_pos.append(L_log_p)\n",
    "    L_mse_pos_ = L_mse_pos.append(L_datapoint_pos[1])\n",
    "    "
   ]
  },
  {
   "cell_type": "code",
   "execution_count": null,
   "metadata": {},
   "outputs": [],
   "source": [
    "kl_computed_manually_datapoint = encoder.predict(x_datapoint_neg, batch_size=25) #predict for negative\n",
    "z_mean_datap = kl_computed_manually_datapoint[0]\n",
    "z_log_var_datap = kl_computed_manually_datapoint[1]\n",
    "kl_datap_man = - 0.5 * np.sum(1 + z_log_var_datap - np.square(z_mean_datap) - np.exp(z_log_var_datap))\n",
    "kl_datap_man /=25\n",
    "kl_datap_man"
   ]
  },
  {
   "cell_type": "markdown",
   "metadata": {},
   "source": [
    "## Visualizing the loss"
   ]
  },
  {
   "cell_type": "code",
   "execution_count": 18,
   "metadata": {},
   "outputs": [
    {
     "data": {
      "text/plain": [
       "(array([42., 13., 47., 61., 66., 80., 72., 49., 17.,  3.]),\n",
       " array([ 36.55056867,  49.66758585,  62.78460304,  75.90162022,\n",
       "         89.0186374 , 102.13565458, 115.25267177, 128.36968895,\n",
       "        141.48670613, 154.60372331, 167.7207405 ]),\n",
       " <a list of 10 Patch objects>)"
      ]
     },
     "execution_count": 18,
     "metadata": {},
     "output_type": "execute_result"
    },
    {
     "data": {
      "image/png": "[encoded data removed]",
      "text/plain": [
       "<Figure size 432x288 with 1 Axes>"
      ]
     },
     "metadata": {},
     "output_type": "display_data"
    }
   ],
   "source": [
    "plt.hist(L_log_neg)\n",
    "plt.hist(L_log_pos)"
   ]
  },
  {
   "cell_type": "code",
   "execution_count": 29,
   "metadata": {},
   "outputs": [
    {
     "data": {
      "text/plain": [
       "<matplotlib.legend.Legend at 0x2ab94db32438>"
      ]
     },
     "execution_count": 29,
     "metadata": {},
     "output_type": "execute_result"
    },
    {
     "data": {
      "image/png": "[encoded data removed]",
      "text/plain": [
       "<Figure size 432x288 with 1 Axes>"
      ]
     },
     "metadata": {},
     "output_type": "display_data"
    }
   ],
   "source": [
    "import seaborn as sns\n",
    "plt.figure()\n",
    "ax1 = sns.distplot(L_log_pos , hist = False, kde = True,\n",
    "                 kde_kws = {'linewidth': 1, 'shade':True}, label='anomalies',color=\"red\")\n",
    "ax2 = sns.distplot(L_log_neg , hist = False, kde = True,\n",
    "                 kde_kws = {'linewidth': 1, 'shade':True}, label='normal samples', color= \"blue\")\n",
    "\n",
    "\n",
    "\n",
    "plt.title('Density function of two Log p(x) using VAE values with NLST')\n",
    "plt.xlabel('ELBO value')\n",
    "plt.ylabel('Density')\n",
    "plt.legend()"
   ]
  },
  {
   "cell_type": "code",
   "execution_count": 30,
   "metadata": {},
   "outputs": [],
   "source": [
    "y_true_neg = np.zeros([100,1])\n",
    "y_true_pos = np.ones([100,1])\n",
    "y_true = np.concatenate((y_true_neg, y_true_pos))\n",
    "\n",
    "scores = np.concatenate((L_log_neg, L_log_pos))"
   ]
  },
  {
   "cell_type": "code",
   "execution_count": 31,
   "metadata": {},
   "outputs": [],
   "source": [
    "np.save('x_train_likelihood_proper_vae', scores)\n",
    "np.save('y_train_proper_vae', y_true)"
   ]
  },
  {
   "cell_type": "code",
   "execution_count": 146,
   "metadata": {},
   "outputs": [
    {
     "data": {
      "image/png": "[encoded data removed]",
      "text/plain": [
       "<Figure size 432x288 with 1 Axes>"
      ]
     },
     "metadata": {},
     "output_type": "display_data"
    }
   ],
   "source": [
    "\n",
    "plt.figure()\n",
    "ax1 = sns.distplot(L_mse_pos , hist = False, kde = True,\n",
    "                 kde_kws = {'linewidth': 1, 'shade':True}, label='anomalies',color=\"red\")\n",
    "ax2 = sns.distplot(L_mse_neg , hist = False, kde = True,\n",
    "                 kde_kws = {'linewidth': 1, 'shade':True}, label='normal samples', color= \"blue\")"
   ]
  },
  {
   "cell_type": "code",
   "execution_count": null,
   "metadata": {},
   "outputs": [],
   "source": [
    "plt.hist(scores_neg)\n",
    "plt.hist(scores_pos)"
   ]
  },
  {
   "cell_type": "code",
   "execution_count": null,
   "metadata": {},
   "outputs": [],
   "source": [
    "import seaborn as sns\n",
    "plt.figure()\n",
    "ax1 = sns.distplot(L_log_pos , hist = False, kde = True,\n",
    "                 kde_kws = {'linewidth': 1, 'shade':True}, label='normal samples',color=\"red\")\n",
    "ax2 = sns.distplot(L_log_neg , hist = False, kde = True,\n",
    "                 kde_kws = {'linewidth': 1, 'shade':True}, label='anomalies', color= \"blue\")\n",
    "\n",
    "\n",
    "\n",
    "plt.title('Density function of two Log p(x) using VAE values')\n",
    "plt.xlabel('ELBO value')\n",
    "plt.ylabel('Density')\n",
    "plt.legend()"
   ]
  },
  {
   "cell_type": "code",
   "execution_count": null,
   "metadata": {},
   "outputs": [],
   "source": [
    "plt.hist([scores_neg, scores_pos])"
   ]
  },
  {
   "cell_type": "code",
   "execution_count": null,
   "metadata": {},
   "outputs": [],
   "source": [
    "import seaborn as sns\n",
    "sns.distplot(scores_neg , hist = False, kde = True,\n",
    "                 kde_kws = {'linewidth': 3, 'shade':True} \n",
    "                 )"
   ]
  },
  {
   "cell_type": "code",
   "execution_count": null,
   "metadata": {},
   "outputs": [],
   "source": [
    "sns.distplot(scores_pos , hist = False, kde = True,\n",
    "                 kde_kws = {'linewidth': 3, 'shade':True} \n",
    "                 )"
   ]
  },
  {
   "cell_type": "code",
   "execution_count": null,
   "metadata": {},
   "outputs": [],
   "source": [
    "import seaborn as sns\n",
    "plt.figure()\n",
    "ax1 = sns.distplot(scores_pos , hist = False, kde = True,\n",
    "                 kde_kws = {'linewidth': 2, 'shade':True}, color=\"red\")\n",
    "ax2 = sns.distplot(scores_neg , hist = False, kde = True,\n",
    "                 kde_kws = {'linewidth': 2, 'shade':True}, color= \"blue\")"
   ]
  },
  {
   "cell_type": "code",
   "execution_count": null,
   "metadata": {},
   "outputs": [],
   "source": [
    "sns.set(style=\"white\", color_codes=True)\n",
    "sns.jointplot(x=scores_neg, y=scores_pos, kind='kde', color=\"skyblue\")\n",
    "\n"
   ]
  },
  {
   "cell_type": "markdown",
   "metadata": {},
   "source": [
    "## AUROC Anomaly"
   ]
  },
  {
   "cell_type": "code",
   "execution_count": null,
   "metadata": {},
   "outputs": [],
   "source": [
    "import sklearn.metrics as skl\n",
    "y_true_neg = np.zeros([450,1])\n",
    "y_true_pos = np.ones([450,1])\n",
    "y_true = np.concatenate((y_true_neg, y_true_pos))\n",
    "\n",
    "y_pred = np.concatenate((scores_neg, scores_pos))\n",
    "\n",
    "fpr, tpr, thresholds = skl.roc_curve(y_true, y_pred, pos_label=0)\n",
    "roc_auc = skl.auc(fpr, tpr)\n"
   ]
  },
  {
   "cell_type": "code",
   "execution_count": null,
   "metadata": {},
   "outputs": [],
   "source": [
    "plt.figure()\n",
    "lw = 2\n",
    "plt.plot(fpr, tpr, color='darkorange',\n",
    "         lw=lw, label='ROC curve (area = %0.2f)' % roc_auc)\n",
    "plt.plot([0, 1], [0, 1], color='navy', lw=lw, linestyle='--')\n",
    "plt.xlim([0.0, 1.0])\n",
    "plt.ylim([0.0, 1.05])\n",
    "plt.xlabel('False Positive Rate')\n",
    "plt.ylabel('True Positive Rate')\n",
    "plt.title('Receiver operating characteristic example')\n",
    "plt.legend(loc=\"lower right\")\n",
    "plt.show()"
   ]
  },
  {
   "cell_type": "code",
   "execution_count": null,
   "metadata": {},
   "outputs": [],
   "source": [
    "np.save('x_train_likelihood', y_pred)\n",
    "np.save('y_train', y_true)"
   ]
  },
  {
   "cell_type": "code",
   "execution_count": null,
   "metadata": {},
   "outputs": [],
   "source": [
    "v1 = np.load('x_train_likelihood.npy')\n",
    "v2 = np.load('y_train.npy')"
   ]
  },
  {
   "cell_type": "code",
   "execution_count": null,
   "metadata": {},
   "outputs": [],
   "source": [
    "v2.shape"
   ]
  }
 ],
 "metadata": {
  "kernelspec": {
   "display_name": "Python 3",
   "language": "python",
   "name": "python3"
  },
  "language_info": {
   "codemirror_mode": {
    "name": "ipython",
    "version": 3
   },
   "file_extension": ".py",
   "mimetype": "text/x-python",
   "name": "python",
   "nbconvert_exporter": "python",
   "pygments_lexer": "ipython3",
   "version": "3.5.5"
  }
 },
 "nbformat": 4,
 "nbformat_minor": 2
}
