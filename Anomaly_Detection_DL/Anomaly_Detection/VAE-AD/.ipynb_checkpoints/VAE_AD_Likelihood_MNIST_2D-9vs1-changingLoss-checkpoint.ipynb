{
 "cells": [
  {
   "cell_type": "code",
   "execution_count": 2,
   "metadata": {},
   "outputs": [
    {
     "name": "stderr",
     "output_type": "stream",
     "text": [
      "Using TensorFlow backend.\n"
     ]
    }
   ],
   "source": [
    "from keras.models import model_from_json\n",
    "import pandas as pd\n",
    "import numpy as np"
   ]
  },
  {
   "cell_type": "code",
   "execution_count": 3,
   "metadata": {
    "collapsed": true
   },
   "outputs": [],
   "source": [
    "import matplotlib.pyplot as plt"
   ]
  },
  {
   "cell_type": "code",
   "execution_count": 4,
   "metadata": {
    "collapsed": true
   },
   "outputs": [],
   "source": [
    "import os\n",
    "os.environ[\"CUDA_VISIBLE_DEVICES\"] = \"2\""
   ]
  },
  {
   "cell_type": "code",
   "execution_count": 5,
   "metadata": {
    "collapsed": true
   },
   "outputs": [],
   "source": [
    "from keras.datasets import mnist\n",
    "from keras.layers import Flatten, Lambda\n",
    "from keras.layers import Input, Dense, Reshape, Layer\n",
    "from keras import metrics\n",
    "from keras.losses import mse, binary_crossentropy\n",
    "# keras imports\n",
    "from keras.models import Model, Sequential\n",
    "from keras.layers.merge import _Merge\n",
    "from keras.layers import Conv2D, UpSampling2D, Conv2DTranspose\n",
    "from keras.layers.normalization import BatchNormalization\n",
    "from keras.layers.advanced_activations import LeakyReLU\n"
   ]
  },
  {
   "cell_type": "code",
   "execution_count": 6,
   "metadata": {
    "collapsed": true
   },
   "outputs": [],
   "source": [
    "import tensorflow as tf\n",
    "import keras.backend as K\n",
    "\n",
    "config = tf.ConfigProto()\n",
    "config.gpu_options.allow_growth = True\n",
    "sess = tf.Session(config=config)\n",
    "K.set_session(sess)\n",
    "\n",
    "K.set_image_data_format('channels_first')"
   ]
  },
  {
   "cell_type": "code",
   "execution_count": 7,
   "metadata": {
    "collapsed": true
   },
   "outputs": [],
   "source": [
    "# MNIST dataset\n",
    "(x_train, y_train), (x_test, y_test) = mnist.load_data()\n",
    "\n",
    "image_size = x_train.shape[1]\n",
    "x_train = np.reshape(x_train, [-1, 1, image_size, image_size])\n",
    "x_test = np.reshape(x_test, [-1, 1, image_size, image_size])\n",
    "x_train = x_train.astype('float32') / 255\n",
    "x_test = x_test.astype('float32') / 255"
   ]
  },
  {
   "cell_type": "code",
   "execution_count": 8,
   "metadata": {
    "collapsed": true
   },
   "outputs": [],
   "source": [
    "x_train_pos = x_train[np.where(y_train == 9)]\n"
   ]
  },
  {
   "cell_type": "code",
   "execution_count": 9,
   "metadata": {
    "collapsed": true
   },
   "outputs": [],
   "source": [
    "x_t_neg = []\n",
    "for i in range(8):\n",
    "    x_t_neg_ = x_train[np.where(y_train == i)]\n",
    "    x_t = x_t_neg_[:1152]\n",
    "    x_t_2 = x_t_neg.append(x_t)\n",
    "x_train_neg = np.reshape(np.asarray(x_t_neg), (8*1152,1,28,28))"
   ]
  },
  {
   "cell_type": "code",
   "execution_count": 10,
   "metadata": {},
   "outputs": [
    {
     "data": {
      "text/plain": [
       "(9216, 1, 28, 28)"
      ]
     },
     "execution_count": 10,
     "metadata": {},
     "output_type": "execute_result"
    }
   ],
   "source": [
    "x_train_neg.shape"
   ]
  },
  {
   "cell_type": "code",
   "execution_count": 11,
   "metadata": {},
   "outputs": [
    {
     "data": {
      "text/plain": [
       "(5949, 1, 28, 28)"
      ]
     },
     "execution_count": 11,
     "metadata": {},
     "output_type": "execute_result"
    }
   ],
   "source": [
    "x_train_pos.shape"
   ]
  },
  {
   "cell_type": "code",
   "execution_count": 10,
   "metadata": {},
   "outputs": [
    {
     "data": {
      "text/plain": [
       "<matplotlib.image.AxesImage at 0x2b479f949eb8>"
      ]
     },
     "execution_count": 10,
     "metadata": {},
     "output_type": "execute_result"
    },
    {
     "data": {
      "image/png": "[encoded data removed]",
      "text/plain": [
       "<Figure size 432x288 with 1 Axes>"
      ]
     },
     "metadata": {},
     "output_type": "display_data"
    }
   ],
   "source": [
    "#ploting a number\n",
    "plt.imshow(np.squeeze(x_train_neg[600]), cmap ='gray')"
   ]
  },
  {
   "cell_type": "code",
   "execution_count": 14,
   "metadata": {},
   "outputs": [
    {
     "data": {
      "text/plain": [
       "(9216, 1, 28, 28)"
      ]
     },
     "execution_count": 14,
     "metadata": {},
     "output_type": "execute_result"
    }
   ],
   "source": [
    "x_train_neg.shape"
   ]
  },
  {
   "cell_type": "code",
   "execution_count": 11,
   "metadata": {
    "collapsed": true
   },
   "outputs": [],
   "source": [
    "###### network parameters\n",
    "input_shape = (1, image_size, image_size)\n",
    "img_chns = 1\n",
    "batch_size = 128\n",
    "kernel_size = 3\n",
    "filters = 64\n",
    "latent_dim = 10\n",
    "epochs = 30\n",
    "num_conv = 3"
   ]
  },
  {
   "cell_type": "code",
   "execution_count": 12,
   "metadata": {},
   "outputs": [
    {
     "name": "stdout",
     "output_type": "stream",
     "text": [
      "__________________________________________________________________________________________________\n",
      "Layer (type)                    Output Shape         Param #     Connected to                     \n",
      "==================================================================================================\n",
      "input (InputLayer)              (None, 1, 28, 28)    0                                            \n",
      "__________________________________________________________________________________________________\n",
      "conv1 (Conv2D)                  (None, 1, 28, 28)    5           input[0][0]                      \n",
      "__________________________________________________________________________________________________\n",
      "conv2 (Conv2D)                  (None, 64, 14, 14)   320         conv1[0][0]                      \n",
      "__________________________________________________________________________________________________\n",
      "conv3 (Conv2D)                  (None, 64, 14, 14)   36928       conv2[0][0]                      \n",
      "__________________________________________________________________________________________________\n",
      "conv4 (Conv2D)                  (None, 64, 14, 14)   36928       conv3[0][0]                      \n",
      "__________________________________________________________________________________________________\n",
      "flatten1 (Flatten)              (None, 12544)        0           conv4[0][0]                      \n",
      "__________________________________________________________________________________________________\n",
      "hiden1 (Dense)                  (None, 128)          1605760     flatten1[0][0]                   \n",
      "__________________________________________________________________________________________________\n",
      "z_mean (Dense)                  (None, 10)           1290        hiden1[0][0]                     \n",
      "__________________________________________________________________________________________________\n",
      "z_log_var (Dense)               (None, 10)           1290        hiden1[0][0]                     \n",
      "__________________________________________________________________________________________________\n",
      "lambda_1 (Lambda)               (None, 10)           0           z_mean[0][0]                     \n",
      "                                                                 z_log_var[0][0]                  \n",
      "__________________________________________________________________________________________________\n",
      "decoder1 (Dense)                (None, 128)          1408        lambda_1[0][0]                   \n",
      "__________________________________________________________________________________________________\n",
      "decoder2 (Dense)                (None, 12544)        1618176     decoder1[0][0]                   \n",
      "__________________________________________________________________________________________________\n",
      "decoderReshape1 (Reshape)       (None, 64, 14, 14)   0           decoder2[0][0]                   \n",
      "__________________________________________________________________________________________________\n",
      "decoderUp1 (Conv2DTranspose)    (None, 64, 14, 14)   36928       decoderReshape1[0][0]            \n",
      "__________________________________________________________________________________________________\n",
      "decoderUp2 (Conv2DTranspose)    (None, 64, 14, 14)   36928       decoderUp1[0][0]                 \n",
      "__________________________________________________________________________________________________\n",
      "decoderUp3 (Conv2DTranspose)    (None, 64, 29, 29)   36928       decoderUp2[0][0]                 \n",
      "__________________________________________________________________________________________________\n",
      "decoderConv1 (Conv2D)           (None, 1, 28, 28)    257         decoderUp3[0][0]                 \n",
      "==================================================================================================\n",
      "Total params: 3,413,146\n",
      "Trainable params: 3,413,146\n",
      "Non-trainable params: 0\n",
      "__________________________________________________________________________________________________\n"
     ]
    }
   ],
   "source": [
    "#VAE\n",
    "\n",
    "latent_dim = 10\n",
    "intermediate_dim = 128\n",
    "epsilon_std = 1.0\n",
    "\n",
    "\n",
    "x = Input(input_shape, name='input')\n",
    "conv_1 = Conv2D(img_chns,\n",
    "                kernel_size=(2, 2),\n",
    "                padding='same', activation='relu', name='conv1')(x)\n",
    "conv_2 = Conv2D(filters,\n",
    "                kernel_size=(2, 2),\n",
    "                padding='same', activation='relu',\n",
    "                strides=(2, 2), name='conv2')(conv_1)\n",
    "conv_3 = Conv2D(filters,\n",
    "                kernel_size=num_conv,\n",
    "                padding='same', activation='relu',\n",
    "                strides=1, name='conv3')(conv_2)\n",
    "conv_4 = Conv2D(filters,\n",
    "                kernel_size=num_conv,\n",
    "                padding='same', activation='relu',\n",
    "                strides=1, name='conv4')(conv_3)\n",
    "flat = Flatten(name='flatten1')(conv_4)\n",
    "hidden = Dense(intermediate_dim, activation='relu', name='hiden1')(flat)\n",
    "\n",
    "z_mean = Dense(latent_dim, name='z_mean')(hidden)\n",
    "z_log_var = Dense(latent_dim, name='z_log_var')(hidden)\n",
    "\n",
    "\n",
    "\n",
    "def sampling(args):\n",
    "    #batch_size = 128\n",
    "    #latent_dim = 10\n",
    "    #epsilon_std = 1.0 cant save the model using variables inside this function\n",
    "    z_mean, z_log_var = args\n",
    "    epsilon = K.random_normal(shape=(batch_size, 10),\n",
    "                              mean=0., stddev=1.0)\n",
    "    return z_mean + K.exp(0.5 * z_log_var) * epsilon #multiply 0.5 !!!!\n",
    "\n",
    "# note that \"output_shape\" isn't necessary with the TensorFlow backend\n",
    "# so you could write `Lambda(sampling)([z_mean, z_log_var])`\n",
    "z = Lambda(sampling, output_shape=(latent_dim,))([z_mean, z_log_var])\n",
    "\n",
    "\n",
    "# we instantiate these layers separately so as to reuse them later\n",
    "decoder_hid = Dense(intermediate_dim, activation='relu', name='decoder1')\n",
    "decoder_upsample = Dense(filters * 14 * 14, activation='relu' , name='decoder2')\n",
    "\n",
    "output_shape = (batch_size, filters, 14, 14)\n",
    "\n",
    "decoder_reshape = Reshape(output_shape[1:], name='decoderReshape1')\n",
    "decoder_deconv_1 = Conv2DTranspose(filters,\n",
    "                                   kernel_size=num_conv,\n",
    "                                   padding='same',\n",
    "                                   strides=1,\n",
    "                                   activation='relu', name='decoderUp1')\n",
    "decoder_deconv_2 = Conv2DTranspose(filters,\n",
    "                                   kernel_size=num_conv,\n",
    "                                   padding='same',\n",
    "                                   strides=1,\n",
    "                                   activation='relu', name='decoderUp2')\n",
    "output_shape = (batch_size, filters, 29, 29)\n",
    "decoder_deconv_3_upsamp = Conv2DTranspose(filters,\n",
    "                                          kernel_size=(3, 3),\n",
    "                                          strides=(2, 2),\n",
    "                                          padding='valid',\n",
    "                                          activation='relu', name='decoderUp3')\n",
    "decoder_mean_squash = Conv2D(img_chns,\n",
    "                             kernel_size=2,\n",
    "                             padding='valid',\n",
    "                             activation='sigmoid', name='decoderConv1')\n",
    "\n",
    "hid_decoded = decoder_hid(z)\n",
    "up_decoded = decoder_upsample(hid_decoded)\n",
    "reshape_decoded = decoder_reshape(up_decoded)\n",
    "deconv_1_decoded = decoder_deconv_1(reshape_decoded)\n",
    "deconv_2_decoded = decoder_deconv_2(deconv_1_decoded)\n",
    "x_decoded_relu = decoder_deconv_3_upsamp(deconv_2_decoded)\n",
    "x_decoded_mean_squash = decoder_mean_squash(x_decoded_relu)\n",
    "\n",
    "\n",
    "# definition of the lossekl_losss as functions to be added in the compile - metrics of Keras\n",
    "def kl_loss_f(inputs,outputs):\n",
    "        # D_KL(Q(z|X) || P(z|X))\n",
    "    #z_mean, z_log_var = args\n",
    "    kl_loss_f = - 0.5 * K.sum(1 + z_log_var - K.square(z_mean) - K.exp(z_log_var), axis=-1)\n",
    "    return kl_loss_f\n",
    "\n",
    "\n",
    "def reconstruction_error_f(inputs, outputs):\n",
    "    # E[log P(X|z)]\n",
    "    inputs = K.flatten(inputs)\n",
    "    outputs = K.flatten(outputs)\n",
    "    reconstruction_loss_f =  image_size * image_size * mse(inputs,outputs)\n",
    "    #image_size * image_size * mse(inputs,outputs)\n",
    "    return reconstruction_loss_f\n",
    "\n",
    "\n",
    "# Loss to be optimized in the training\n",
    "\n",
    "def total_loss(inputs, outputs):\n",
    "    inputs = K.flatten(inputs)\n",
    "    outputs = K.flatten(outputs)\n",
    "    # log likelihood\n",
    "    reconstruction_loss =  image_size * image_size * mse(inputs,outputs)\n",
    "    #kl_loss_ = kl_loss(inputs,outputs)\n",
    "    kl_loss = - 0.5 * K.sum(1 + z_log_var - K.square(z_mean) - K.exp(z_log_var), axis=-1) \n",
    "    loss = K.mean(reconstruction_loss + kl_loss) #why is the mean? \n",
    "\n",
    "    return loss\n",
    "\n",
    "vae = Model(x, x_decoded_mean_squash)\n",
    "vae.compile(loss=total_loss, optimizer='rmsprop', metrics=[mse, kl_loss_f,reconstruction_error_f])\n",
    "vae.summary()"
   ]
  },
  {
   "cell_type": "code",
   "execution_count": 165,
   "metadata": {
    "collapsed": true
   },
   "outputs": [],
   "source": [
    "kl_sinaxis = - 0.5 * K.sum(1 + z_log_var - K.square(z_mean) - K.exp(z_log_var))#, axis=-1)\n",
    "kl_axis = kl_loss = - 0.5 * K.sum(1 + z_log_var - K.square(z_mean) - K.exp(z_log_var), axis=-1)"
   ]
  },
  {
   "cell_type": "code",
   "execution_count": 166,
   "metadata": {},
   "outputs": [
    {
     "name": "stdout",
     "output_type": "stream",
     "text": [
      "Tensor(\"mul_3:0\", shape=(), dtype=float32)\n",
      "Tensor(\"mul_4:0\", shape=(?,), dtype=float32)\n"
     ]
    }
   ],
   "source": [
    "print(kl_sinaxis)\n",
    "print(kl_axis)\n"
   ]
  },
  {
   "cell_type": "code",
   "execution_count": 13,
   "metadata": {
    "collapsed": true
   },
   "outputs": [],
   "source": [
    "try:\n",
    "    import cPickle as pickle\n",
    "except ImportError:\n",
    "    import pickle\n",
    "import matplotlib.pyplot as plt"
   ]
  },
  {
   "cell_type": "code",
   "execution_count": 196,
   "metadata": {
    "scrolled": true
   },
   "outputs": [
    {
     "name": "stdout",
     "output_type": "stream",
     "text": [
      "Epoch 1/30\n",
      "9216/9216 [==============================] - 7s 746us/step - loss: 59.0938 - mean_squared_error: 0.0746 - kl_loss: 77.9257 - reconstruction_error: 0.0746\n",
      "Epoch 2/30\n",
      "9216/9216 [==============================] - 3s 332us/step - loss: 46.9531 - mean_squared_error: 0.0549 - kl_loss: 502.2114 - reconstruction_error: 0.0549\n",
      "Epoch 3/30\n",
      "9216/9216 [==============================] - 3s 329us/step - loss: 40.1457 - mean_squared_error: 0.0426 - kl_loss: 861.9168 - reconstruction_error: 0.0426\n",
      "Epoch 4/30\n",
      "9216/9216 [==============================] - 3s 340us/step - loss: 37.5685 - mean_squared_error: 0.0383 - kl_loss: 962.2077 - reconstruction_error: 0.0383\n",
      "Epoch 5/30\n",
      "9216/9216 [==============================] - 3s 339us/step - loss: 35.9311 - mean_squared_error: 0.0356 - kl_loss: 1022.1243 - reconstruction_error: 0.0356\n",
      "Epoch 6/30\n",
      "9216/9216 [==============================] - 3s 337us/step - loss: 34.6410 - mean_squared_error: 0.0335 - kl_loss: 1071.2750 - reconstruction_error: 0.0335\n",
      "Epoch 7/30\n",
      "9216/9216 [==============================] - 3s 341us/step - loss: 33.7790 - mean_squared_error: 0.0321 - kl_loss: 1106.2732 - reconstruction_error: 0.0321\n",
      "Epoch 8/30\n",
      "9216/9216 [==============================] - 3s 337us/step - loss: 33.0522 - mean_squared_error: 0.0307 - kl_loss: 1145.5731 - reconstruction_error: 0.0307\n",
      "Epoch 9/30\n",
      "9216/9216 [==============================] - 3s 338us/step - loss: 32.3030 - mean_squared_error: 0.0296 - kl_loss: 1169.0844 - reconstruction_error: 0.0296\n",
      "Epoch 10/30\n",
      "9216/9216 [==============================] - 3s 337us/step - loss: 31.7458 - mean_squared_error: 0.0286 - kl_loss: 1196.3501 - reconstruction_error: 0.0286\n",
      "Epoch 11/30\n",
      "9216/9216 [==============================] - 3s 335us/step - loss: 31.3134 - mean_squared_error: 0.0277 - kl_loss: 1225.1911 - reconstruction_error: 0.0277\n",
      "Epoch 12/30\n",
      "9216/9216 [==============================] - 3s 334us/step - loss: 30.9691 - mean_squared_error: 0.0271 - kl_loss: 1245.0913 - reconstruction_error: 0.0271\n",
      "Epoch 13/30\n",
      "9216/9216 [==============================] - 3s 333us/step - loss: 30.5369 - mean_squared_error: 0.0264 - kl_loss: 1257.8811 - reconstruction_error: 0.0264\n",
      "Epoch 14/30\n",
      "9216/9216 [==============================] - 3s 334us/step - loss: 30.2870 - mean_squared_error: 0.0259 - kl_loss: 1273.2337 - reconstruction_error: 0.0259\n",
      "Epoch 15/30\n",
      "9216/9216 [==============================] - 3s 334us/step - loss: 30.0282 - mean_squared_error: 0.0255 - kl_loss: 1282.9177 - reconstruction_error: 0.0255\n",
      "Epoch 16/30\n",
      "9216/9216 [==============================] - 3s 334us/step - loss: 29.8321 - mean_squared_error: 0.0252 - kl_loss: 1289.2826 - reconstruction_error: 0.0252\n",
      "Epoch 17/30\n",
      "9216/9216 [==============================] - 3s 338us/step - loss: 29.5837 - mean_squared_error: 0.0248 - kl_loss: 1300.2998 - reconstruction_error: 0.0248\n",
      "Epoch 18/30\n",
      "9216/9216 [==============================] - 3s 341us/step - loss: 29.3153 - mean_squared_error: 0.0244 - kl_loss: 1303.5289 - reconstruction_error: 0.0244\n",
      "Epoch 19/30\n",
      "9216/9216 [==============================] - 3s 339us/step - loss: 29.1309 - mean_squared_error: 0.0241 - kl_loss: 1312.1841 - reconstruction_error: 0.0241\n",
      "Epoch 20/30\n",
      "9216/9216 [==============================] - 3s 340us/step - loss: 29.0047 - mean_squared_error: 0.0238 - kl_loss: 1322.6149 - reconstruction_error: 0.0238\n",
      "Epoch 21/30\n",
      "9216/9216 [==============================] - 3s 338us/step - loss: 28.7521 - mean_squared_error: 0.0235 - kl_loss: 1325.4394 - reconstruction_error: 0.0235\n",
      "Epoch 22/30\n",
      "9216/9216 [==============================] - 3s 338us/step - loss: 28.6727 - mean_squared_error: 0.0232 - kl_loss: 1338.1181 - reconstruction_error: 0.0232\n",
      "Epoch 23/30\n",
      "9216/9216 [==============================] - 3s 333us/step - loss: 28.5254 - mean_squared_error: 0.0230 - kl_loss: 1345.2849 - reconstruction_error: 0.0230\n",
      "Epoch 24/30\n",
      "9216/9216 [==============================] - 3s 333us/step - loss: 28.4243 - mean_squared_error: 0.0228 - kl_loss: 1348.3426 - reconstruction_error: 0.0228\n",
      "Epoch 25/30\n",
      "9216/9216 [==============================] - 3s 335us/step - loss: 28.1638 - mean_squared_error: 0.0225 - kl_loss: 1350.6284 - reconstruction_error: 0.0225\n",
      "Epoch 26/30\n",
      "9216/9216 [==============================] - 3s 335us/step - loss: 28.0505 - mean_squared_error: 0.0223 - kl_loss: 1353.5741 - reconstruction_error: 0.0223\n",
      "Epoch 27/30\n",
      "9216/9216 [==============================] - 3s 337us/step - loss: 27.9859 - mean_squared_error: 0.0221 - kl_loss: 1364.1351 - reconstruction_error: 0.0221\n",
      "Epoch 28/30\n",
      "9216/9216 [==============================] - 3s 337us/step - loss: 27.8640 - mean_squared_error: 0.0220 - kl_loss: 1363.3863 - reconstruction_error: 0.0220\n",
      "Epoch 29/30\n",
      "9216/9216 [==============================] - 3s 337us/step - loss: 27.7339 - mean_squared_error: 0.0218 - kl_loss: 1364.2912 - reconstruction_error: 0.0218\n",
      "Epoch 30/30\n",
      "9216/9216 [==============================] - 3s 336us/step - loss: 27.6318 - mean_squared_error: 0.0216 - kl_loss: 1373.4808 - reconstruction_error: 0.0216\n"
     ]
    }
   ],
   "source": [
    "## fit the VAE\n",
    "history = vae.fit(x=x_train_neg, y=x_train_neg, batch_size=128,epochs=epochs)\n",
    "vae.save_weights('vae_mnist_MSE_img2_30epochs_kl_sum_1vs9_weights_3.hdf5')\n",
    "\n"
   ]
  },
  {
   "cell_type": "code",
   "execution_count": 14,
   "metadata": {},
   "outputs": [
    {
     "ename": "NameError",
     "evalue": "name 'history' is not defined",
     "output_type": "error",
     "traceback": [
      "\u001b[0;31m---------------------------------------------------------------------------\u001b[0m",
      "\u001b[0;31mNameError\u001b[0m                                 Traceback (most recent call last)",
      "\u001b[0;32m<ipython-input-14-5a731352357d>\u001b[0m in \u001b[0;36m<module>\u001b[0;34m()\u001b[0m\n\u001b[0;32m----> 1\u001b[0;31m \u001b[0mpickle\u001b[0m\u001b[0;34m.\u001b[0m\u001b[0mdump\u001b[0m\u001b[0;34m(\u001b[0m\u001b[0;34m{\u001b[0m\u001b[0;34m'train'\u001b[0m\u001b[0;34m:\u001b[0m \u001b[0mhistory\u001b[0m\u001b[0;34m.\u001b[0m\u001b[0mhistory\u001b[0m\u001b[0;34m}\u001b[0m\u001b[0;34m,\u001b[0m \u001b[0mopen\u001b[0m\u001b[0;34m(\u001b[0m\u001b[0;34m'vae_mnist_MSE_img2_30epochs_kl_sum_1vs9_history_3.pkl'\u001b[0m\u001b[0;34m,\u001b[0m \u001b[0;34m'wb'\u001b[0m\u001b[0;34m)\u001b[0m\u001b[0;34m)\u001b[0m\u001b[0;34m\u001b[0m\u001b[0m\n\u001b[0m",
      "\u001b[0;31mNameError\u001b[0m: name 'history' is not defined"
     ]
    }
   ],
   "source": [
    "pickle.dump({'train': history.history}, open('vae_mnist_MSE_img2_30epochs_kl_sum_1vs9_history_3.pkl', 'wb'))"
   ]
  },
  {
   "cell_type": "code",
   "execution_count": 23,
   "metadata": {
    "collapsed": true
   },
   "outputs": [],
   "source": [
    "#batch_size = 2\n",
    "\n",
    "#model_file = 'VAE_3D_MSE_100epoch_BCE_model.json'\n",
    "weights_file = 'vae_mnist_MSE_img2_30epochs_kl_sum_1vs9_weights_3.hdf5'\n",
    "\n",
    " # load json and create model\n",
    "# json_file = open(model_file, 'r')\n",
    "# loaded_model_json = json_file.read()\n",
    "# json_file.close()\n",
    "# # vae_model = model_from_json(loaded_model_json)\n",
    "\n",
    "# # vae_model.load_weights(weights_file)\n",
    "\n",
    "# # vae_model.summary()"
   ]
  },
  {
   "cell_type": "markdown",
   "metadata": {},
   "source": [
    "## Analysis of loss"
   ]
  },
  {
   "cell_type": "code",
   "execution_count": 16,
   "metadata": {
    "collapsed": true
   },
   "outputs": [],
   "source": [
    "folder = 'vae_mnist_MSE_img2_30epochs_kl_sum_1vs9_history_3.pkl'  \n",
    "with open(r\"{}\".format(folder), \"rb\") as input_file:\n",
    "    hist = pickle.load(input_file)"
   ]
  },
  {
   "cell_type": "code",
   "execution_count": 17,
   "metadata": {},
   "outputs": [
    {
     "data": {
      "text/plain": [
       "dict_keys(['reconstruction_error', 'mean_squared_error', 'loss', 'kl_loss'])"
      ]
     },
     "execution_count": 17,
     "metadata": {},
     "output_type": "execute_result"
    }
   ],
   "source": [
    "hist['train'].keys()"
   ]
  },
  {
   "cell_type": "code",
   "execution_count": 18,
   "metadata": {
    "collapsed": true
   },
   "outputs": [],
   "source": [
    "def plot_loss(folder):\n",
    "    # load the loss data\n",
    "    with open(r\"{}\".format(folder), \"rb\") as input_file:\n",
    "        hist = pickle.load(input_file)\n",
    "\n",
    "        # summarize history for loss\n",
    "    plt.plot(hist['train']['kl_loss'][1:])\n",
    "    #plt.plot(hist['train']['val_loss'])\n",
    "    plt.title('reconstruction_error')\n",
    "    plt.ylabel('loss')\n",
    "    plt.xlabel('epoch')\n",
    "    #plt.legend(['train', 'valid'])\n",
    "    plt.show()"
   ]
  },
  {
   "cell_type": "code",
   "execution_count": 19,
   "metadata": {},
   "outputs": [
    {
     "data": {
      "image/png": "[encoded data removed]",
      "text/plain": [
       "<Figure size 432x288 with 1 Axes>"
      ]
     },
     "metadata": {},
     "output_type": "display_data"
    }
   ],
   "source": [
    "plot_loss(folder)"
   ]
  },
  {
   "cell_type": "markdown",
   "metadata": {},
   "source": [
    "## check quality of the model"
   ]
  },
  {
   "cell_type": "code",
   "execution_count": 24,
   "metadata": {
    "collapsed": true
   },
   "outputs": [],
   "source": [
    "vae.load_weights(weights_file)"
   ]
  },
  {
   "cell_type": "code",
   "execution_count": 25,
   "metadata": {
    "collapsed": true
   },
   "outputs": [],
   "source": [
    "inp_check = x_train[:1024]#x_train_[-128:]\n",
    "out_check = vae.predict(inp_check, batch_size = 128)"
   ]
  },
  {
   "cell_type": "code",
   "execution_count": 26,
   "metadata": {},
   "outputs": [
    {
     "data": {
      "text/plain": [
       "<matplotlib.image.AxesImage at 0x2b49cefaf2b0>"
      ]
     },
     "execution_count": 26,
     "metadata": {},
     "output_type": "execute_result"
    },
    {
     "data": {
      "image/png": "[encoded data removed]",
      "text/plain": [
       "<Figure size 432x288 with 1 Axes>"
      ]
     },
     "metadata": {},
     "output_type": "display_data"
    }
   ],
   "source": [
    "plt.imshow(np.squeeze(out_check[1000]))"
   ]
  },
  {
   "cell_type": "markdown",
   "metadata": {},
   "source": [
    "## Compiling and evaluating the model"
   ]
  },
  {
   "cell_type": "markdown",
   "metadata": {},
   "source": [
    "## update: compute the likelihood over L samples by passing the same image as a whole mini_batch (mini_batch.size = L) "
   ]
  },
  {
   "cell_type": "code",
   "execution_count": 27,
   "metadata": {
    "collapsed": true
   },
   "outputs": [],
   "source": [
    "x_train_neg_ = x_train_neg[:256]\n",
    "x_train_pos_ = x_train_pos[:256]"
   ]
  },
  {
   "cell_type": "code",
   "execution_count": 28,
   "metadata": {},
   "outputs": [
    {
     "ename": "NameError",
     "evalue": "name 'L_datapoint_neg_metrics' is not defined",
     "output_type": "error",
     "traceback": [
      "\u001b[0;31m---------------------------------------------------------------------------\u001b[0m",
      "\u001b[0;31mNameError\u001b[0m                                 Traceback (most recent call last)",
      "\u001b[0;32m<ipython-input-28-25d232b0a621>\u001b[0m in \u001b[0;36m<module>\u001b[0;34m()\u001b[0m\n\u001b[0;32m----> 1\u001b[0;31m \u001b[0mL_datapoint_neg_metrics\u001b[0m\u001b[0;34m\u001b[0m\u001b[0m\n\u001b[0m",
      "\u001b[0;31mNameError\u001b[0m: name 'L_datapoint_neg_metrics' is not defined"
     ]
    }
   ],
   "source": [
    "L_datapoint_neg_metrics"
   ]
  },
  {
   "cell_type": "code",
   "execution_count": 337,
   "metadata": {
    "collapsed": true
   },
   "outputs": [],
   "source": [
    "kl_loss_datapoint = L_datapoint_neg_metrics[2]\n",
    "reconstruction_error_datapoint = L_datapoint_neg_metrics[3]"
   ]
  },
  {
   "cell_type": "code",
   "execution_count": 338,
   "metadata": {},
   "outputs": [
    {
     "data": {
      "text/plain": [
       "14.689778327941895"
      ]
     },
     "execution_count": 338,
     "metadata": {},
     "output_type": "execute_result"
    }
   ],
   "source": [
    "kl_loss_datapoint + reconstruction_error_datapoint"
   ]
  },
  {
   "cell_type": "code",
   "execution_count": 29,
   "metadata": {},
   "outputs": [
    {
     "name": "stdout",
     "output_type": "stream",
     "text": [
      "128/128 [==============================] - 0s 2ms/step\n",
      "128/128 [==============================] - 0s 137us/step\n",
      "128/128 [==============================] - 0s 143us/step\n",
      "128/128 [==============================] - 0s 138us/step\n",
      "128/128 [==============================] - 0s 141us/step\n",
      "128/128 [==============================] - 0s 138us/step\n",
      "128/128 [==============================] - 0s 136us/step\n",
      "128/128 [==============================] - 0s 136us/step\n",
      "128/128 [==============================] - 0s 148us/step\n",
      "128/128 [==============================] - 0s 141us/step\n",
      "128/128 [==============================] - 0s 138us/step\n",
      "128/128 [==============================] - 0s 127us/step\n",
      "128/128 [==============================] - 0s 126us/step\n",
      "128/128 [==============================] - 0s 127us/step\n",
      "128/128 [==============================] - 0s 119us/step\n",
      "128/128 [==============================] - 0s 127us/step\n",
      "128/128 [==============================] - 0s 126us/step\n",
      "128/128 [==============================] - 0s 127us/step\n",
      "128/128 [==============================] - 0s 123us/step\n",
      "128/128 [==============================] - 0s 125us/step\n",
      "128/128 [==============================] - 0s 117us/step\n",
      "128/128 [==============================] - 0s 110us/step\n",
      "128/128 [==============================] - 0s 116us/step\n",
      "128/128 [==============================] - 0s 112us/step\n",
      "128/128 [==============================] - 0s 112us/step\n",
      "128/128 [==============================] - 0s 113us/step\n",
      "128/128 [==============================] - 0s 113us/step\n",
      "128/128 [==============================] - 0s 112us/step\n",
      "128/128 [==============================] - 0s 113us/step\n",
      "128/128 [==============================] - 0s 114us/step\n",
      "128/128 [==============================] - 0s 107us/step\n",
      "128/128 [==============================] - 0s 104us/step\n",
      "128/128 [==============================] - 0s 102us/step\n",
      "128/128 [==============================] - 0s 102us/step\n",
      "128/128 [==============================] - 0s 100us/step\n",
      "128/128 [==============================] - 0s 103us/step\n",
      "128/128 [==============================] - 0s 105us/step\n",
      "128/128 [==============================] - 0s 102us/step\n",
      "128/128 [==============================] - 0s 100us/step\n",
      "128/128 [==============================] - 0s 100us/step\n",
      "128/128 [==============================] - 0s 101us/step\n",
      "128/128 [==============================] - 0s 100us/step\n",
      "128/128 [==============================] - 0s 99us/step\n",
      "128/128 [==============================] - 0s 98us/step\n",
      "128/128 [==============================] - 0s 101us/step\n",
      "128/128 [==============================] - 0s 101us/step\n",
      "128/128 [==============================] - 0s 100us/step\n",
      "128/128 [==============================] - 0s 103us/step\n",
      "128/128 [==============================] - 0s 98us/step\n",
      "128/128 [==============================] - 0s 100us/step\n",
      "128/128 [==============================] - 0s 99us/step\n",
      "128/128 [==============================] - 0s 102us/step\n",
      "128/128 [==============================] - 0s 106us/step\n",
      "128/128 [==============================] - 0s 105us/step\n",
      "128/128 [==============================] - 0s 99us/step\n",
      "128/128 [==============================] - 0s 103us/step\n",
      "128/128 [==============================] - 0s 101us/step\n",
      "128/128 [==============================] - 0s 102us/step\n",
      "128/128 [==============================] - 0s 99us/step\n",
      "128/128 [==============================] - 0s 98us/step\n",
      "128/128 [==============================] - 0s 100us/step\n",
      "128/128 [==============================] - 0s 103us/step\n",
      "128/128 [==============================] - 0s 99us/step\n",
      "128/128 [==============================] - 0s 101us/step\n",
      "128/128 [==============================] - 0s 99us/step\n",
      "128/128 [==============================] - 0s 100us/step\n",
      "128/128 [==============================] - 0s 102us/step\n",
      "128/128 [==============================] - 0s 103us/step\n",
      "128/128 [==============================] - 0s 101us/step\n",
      "128/128 [==============================] - 0s 98us/step\n",
      "128/128 [==============================] - 0s 97us/step\n",
      "128/128 [==============================] - 0s 93us/step\n",
      "128/128 [==============================] - 0s 95us/step\n",
      "128/128 [==============================] - 0s 97us/step\n",
      "128/128 [==============================] - 0s 98us/step\n",
      "128/128 [==============================] - 0s 100us/step\n",
      "128/128 [==============================] - 0s 98us/step\n",
      "128/128 [==============================] - 0s 104us/step\n",
      "128/128 [==============================] - 0s 98us/step\n",
      "128/128 [==============================] - 0s 101us/step\n",
      "128/128 [==============================] - 0s 100us/step\n",
      "128/128 [==============================] - 0s 98us/step\n",
      "128/128 [==============================] - 0s 99us/step\n",
      "128/128 [==============================] - 0s 100us/step\n",
      "128/128 [==============================] - 0s 98us/step\n",
      "128/128 [==============================] - 0s 97us/step\n",
      "128/128 [==============================] - 0s 99us/step\n",
      "128/128 [==============================] - 0s 97us/step\n",
      "128/128 [==============================] - 0s 101us/step\n",
      "128/128 [==============================] - 0s 99us/step\n",
      "128/128 [==============================] - 0s 102us/step\n",
      "128/128 [==============================] - 0s 99us/step\n",
      "128/128 [==============================] - 0s 102us/step\n",
      "128/128 [==============================] - 0s 103us/step\n",
      "128/128 [==============================] - 0s 99us/step\n",
      "128/128 [==============================] - 0s 103us/step\n",
      "128/128 [==============================] - 0s 99us/step\n",
      "128/128 [==============================] - 0s 101us/step\n",
      "128/128 [==============================] - 0s 100us/step\n",
      "128/128 [==============================] - 0s 100us/step\n",
      "128/128 [==============================] - 0s 95us/step\n",
      "128/128 [==============================] - 0s 100us/step\n",
      "128/128 [==============================] - 0s 95us/step\n",
      "128/128 [==============================] - 0s 104us/step\n",
      "128/128 [==============================] - 0s 101us/step\n",
      "128/128 [==============================] - 0s 97us/step\n",
      "128/128 [==============================] - 0s 99us/step\n",
      "128/128 [==============================] - 0s 103us/step\n",
      "128/128 [==============================] - 0s 99us/step\n",
      "128/128 [==============================] - 0s 101us/step\n",
      "128/128 [==============================] - 0s 100us/step\n",
      "128/128 [==============================] - 0s 98us/step\n",
      "128/128 [==============================] - 0s 97us/step\n",
      "128/128 [==============================] - 0s 133us/step\n",
      "128/128 [==============================] - 0s 98us/step\n",
      "128/128 [==============================] - 0s 97us/step\n",
      "128/128 [==============================] - 0s 100us/step\n",
      "128/128 [==============================] - 0s 99us/step\n",
      "128/128 [==============================] - 0s 97us/step\n",
      "128/128 [==============================] - 0s 98us/step\n",
      "128/128 [==============================] - 0s 97us/step\n",
      "128/128 [==============================] - 0s 98us/step\n",
      "128/128 [==============================] - 0s 99us/step\n",
      "128/128 [==============================] - 0s 100us/step\n",
      "128/128 [==============================] - 0s 100us/step\n",
      "128/128 [==============================] - 0s 101us/step\n",
      "128/128 [==============================] - 0s 102us/step\n",
      "128/128 [==============================] - 0s 112us/step\n",
      "128/128 [==============================] - 0s 99us/step\n",
      "128/128 [==============================] - 0s 98us/step\n",
      "128/128 [==============================] - 0s 98us/step\n",
      "128/128 [==============================] - 0s 100us/step\n",
      "128/128 [==============================] - 0s 100us/step\n",
      "128/128 [==============================] - 0s 99us/step\n",
      "128/128 [==============================] - 0s 101us/step\n",
      "128/128 [==============================] - 0s 100us/step\n",
      "128/128 [==============================] - 0s 103us/step\n",
      "128/128 [==============================] - 0s 98us/step\n",
      "128/128 [==============================] - 0s 99us/step\n",
      "128/128 [==============================] - 0s 99us/step\n",
      "128/128 [==============================] - 0s 99us/step\n",
      "128/128 [==============================] - 0s 100us/step\n",
      "128/128 [==============================] - 0s 94us/step\n",
      "128/128 [==============================] - 0s 100us/step\n",
      "128/128 [==============================] - 0s 98us/step\n"
     ]
    },
    {
     "name": "stdout",
     "output_type": "stream",
     "text": [
      "128/128 [==============================] - 0s 97us/step\n",
      "128/128 [==============================] - 0s 98us/step\n",
      "128/128 [==============================] - 0s 95us/step\n",
      "128/128 [==============================] - 0s 102us/step\n",
      "128/128 [==============================] - 0s 106us/step\n",
      "128/128 [==============================] - 0s 101us/step\n",
      "128/128 [==============================] - 0s 98us/step\n",
      "128/128 [==============================] - 0s 102us/step\n",
      "128/128 [==============================] - 0s 101us/step\n",
      "128/128 [==============================] - 0s 104us/step\n",
      "128/128 [==============================] - 0s 100us/step\n",
      "128/128 [==============================] - 0s 101us/step\n",
      "128/128 [==============================] - 0s 100us/step\n",
      "128/128 [==============================] - 0s 99us/step\n",
      "128/128 [==============================] - 0s 105us/step\n",
      "128/128 [==============================] - 0s 102us/step\n",
      "128/128 [==============================] - 0s 102us/step\n",
      "128/128 [==============================] - 0s 103us/step\n",
      "128/128 [==============================] - 0s 102us/step\n",
      "128/128 [==============================] - 0s 100us/step\n",
      "128/128 [==============================] - 0s 100us/step\n",
      "128/128 [==============================] - 0s 99us/step\n",
      "128/128 [==============================] - 0s 102us/step\n",
      "128/128 [==============================] - 0s 100us/step\n",
      "128/128 [==============================] - 0s 102us/step\n",
      "128/128 [==============================] - 0s 99us/step\n",
      "128/128 [==============================] - 0s 97us/step\n",
      "128/128 [==============================] - 0s 100us/step\n",
      "128/128 [==============================] - 0s 95us/step\n",
      "128/128 [==============================] - 0s 96us/step\n",
      "128/128 [==============================] - 0s 96us/step\n",
      "128/128 [==============================] - 0s 96us/step\n",
      "128/128 [==============================] - 0s 99us/step\n",
      "128/128 [==============================] - 0s 97us/step\n",
      "128/128 [==============================] - 0s 100us/step\n",
      "128/128 [==============================] - 0s 99us/step\n",
      "128/128 [==============================] - 0s 104us/step\n",
      "128/128 [==============================] - 0s 100us/step\n",
      "128/128 [==============================] - 0s 103us/step\n",
      "128/128 [==============================] - 0s 102us/step\n",
      "128/128 [==============================] - 0s 95us/step\n",
      "128/128 [==============================] - 0s 101us/step\n",
      "128/128 [==============================] - 0s 97us/step\n",
      "128/128 [==============================] - 0s 98us/step\n",
      "128/128 [==============================] - 0s 98us/step\n",
      "128/128 [==============================] - 0s 102us/step\n",
      "128/128 [==============================] - 0s 100us/step\n",
      "128/128 [==============================] - 0s 99us/step\n",
      "128/128 [==============================] - 0s 102us/step\n",
      "128/128 [==============================] - 0s 103us/step\n",
      "128/128 [==============================] - 0s 101us/step\n",
      "128/128 [==============================] - 0s 102us/step\n",
      "128/128 [==============================] - 0s 101us/step\n",
      "128/128 [==============================] - 0s 104us/step\n",
      "128/128 [==============================] - 0s 99us/step\n",
      "128/128 [==============================] - 0s 102us/step\n",
      "128/128 [==============================] - 0s 109us/step\n",
      "128/128 [==============================] - 0s 99us/step\n",
      "128/128 [==============================] - 0s 111us/step\n",
      "128/128 [==============================] - 0s 96us/step\n",
      "128/128 [==============================] - 0s 108us/step\n",
      "128/128 [==============================] - 0s 109us/step\n",
      "128/128 [==============================] - 0s 99us/step\n",
      "128/128 [==============================] - 0s 107us/step\n",
      "128/128 [==============================] - 0s 97us/step\n",
      "128/128 [==============================] - 0s 98us/step\n",
      "128/128 [==============================] - 0s 96us/step\n",
      "128/128 [==============================] - 0s 97us/step\n",
      "128/128 [==============================] - 0s 96us/step\n",
      "128/128 [==============================] - 0s 98us/step\n",
      "128/128 [==============================] - 0s 98us/step\n",
      "128/128 [==============================] - 0s 93us/step\n",
      "128/128 [==============================] - 0s 101us/step\n",
      "128/128 [==============================] - 0s 100us/step\n",
      "128/128 [==============================] - 0s 100us/step\n",
      "128/128 [==============================] - 0s 98us/step\n",
      "128/128 [==============================] - 0s 99us/step\n",
      "128/128 [==============================] - 0s 97us/step\n",
      "128/128 [==============================] - 0s 100us/step\n",
      "128/128 [==============================] - 0s 98us/step\n",
      "128/128 [==============================] - 0s 102us/step\n",
      "128/128 [==============================] - 0s 99us/step\n",
      "128/128 [==============================] - 0s 95us/step\n",
      "128/128 [==============================] - 0s 98us/step\n",
      "128/128 [==============================] - 0s 96us/step\n",
      "128/128 [==============================] - 0s 101us/step\n",
      "128/128 [==============================] - 0s 98us/step\n",
      "128/128 [==============================] - 0s 101us/step\n",
      "128/128 [==============================] - 0s 103us/step\n",
      "128/128 [==============================] - 0s 98us/step\n",
      "128/128 [==============================] - 0s 101us/step\n",
      "128/128 [==============================] - 0s 98us/step\n",
      "128/128 [==============================] - 0s 100us/step\n",
      "128/128 [==============================] - 0s 99us/step\n",
      "128/128 [==============================] - 0s 100us/step\n",
      "128/128 [==============================] - 0s 99us/step\n",
      "128/128 [==============================] - 0s 102us/step\n",
      "128/128 [==============================] - 0s 101us/step\n",
      "128/128 [==============================] - 0s 100us/step\n",
      "128/128 [==============================] - 0s 95us/step\n",
      "128/128 [==============================] - 0s 100us/step\n",
      "128/128 [==============================] - 0s 99us/step\n",
      "128/128 [==============================] - 0s 98us/step\n",
      "128/128 [==============================] - 0s 98us/step\n",
      "128/128 [==============================] - 0s 99us/step\n",
      "128/128 [==============================] - 0s 98us/step\n",
      "128/128 [==============================] - 0s 99us/step\n",
      "128/128 [==============================] - 0s 103us/step\n",
      "128/128 [==============================] - 0s 103us/step\n",
      "128/128 [==============================] - 0s 101us/step\n",
      "128/128 [==============================] - 0s 102us/step\n"
     ]
    }
   ],
   "source": [
    "#computing the score for all nodules \n",
    "#negative nodules \n",
    "L_log_neg =[]\n",
    "for i in range(x_train_neg_.shape[0]):\n",
    "    x_datapoint_neg = np.vstack((x_train_neg_[[i]],)*128)\n",
    "    L_datapoint_neg  = vae.evaluate(x_datapoint_neg, x_datapoint_neg,batch_size = 128)\n",
    "\n",
    "    kl_loss_datapoint = L_datapoint_neg[2]\n",
    "    reconstruction_error_datapoint = L_datapoint_neg[3]\n",
    "    L_log_n = kl_loss_datapoint + reconstruction_error_datapoint\n",
    "    L_log_neg_ = L_log_neg.append(L_log_n)\n",
    "    \n"
   ]
  },
  {
   "cell_type": "code",
   "execution_count": 30,
   "metadata": {},
   "outputs": [
    {
     "name": "stdout",
     "output_type": "stream",
     "text": [
      "128/128 [==============================] - 0s 103us/step\n",
      "128/128 [==============================] - 0s 107us/step\n",
      "128/128 [==============================] - 0s 103us/step\n",
      "128/128 [==============================] - 0s 98us/step\n",
      "128/128 [==============================] - 0s 103us/step\n",
      "128/128 [==============================] - 0s 110us/step\n",
      "128/128 [==============================] - 0s 103us/step\n",
      "128/128 [==============================] - 0s 99us/step\n",
      "128/128 [==============================] - 0s 100us/step\n",
      "128/128 [==============================] - 0s 102us/step\n",
      "128/128 [==============================] - 0s 106us/step\n",
      "128/128 [==============================] - 0s 103us/step\n",
      "128/128 [==============================] - 0s 100us/step\n",
      "128/128 [==============================] - 0s 108us/step\n",
      "128/128 [==============================] - 0s 97us/step\n",
      "128/128 [==============================] - 0s 100us/step\n",
      "128/128 [==============================] - 0s 99us/step\n",
      "128/128 [==============================] - 0s 102us/step\n",
      "128/128 [==============================] - 0s 99us/step\n",
      "128/128 [==============================] - 0s 96us/step\n",
      "128/128 [==============================] - 0s 97us/step\n",
      "128/128 [==============================] - 0s 100us/step\n",
      "128/128 [==============================] - 0s 100us/step\n",
      "128/128 [==============================] - 0s 105us/step\n",
      "128/128 [==============================] - 0s 97us/step\n",
      "128/128 [==============================] - 0s 98us/step\n",
      "128/128 [==============================] - 0s 98us/step\n",
      "128/128 [==============================] - 0s 100us/step\n",
      "128/128 [==============================] - 0s 102us/step\n",
      "128/128 [==============================] - 0s 97us/step\n",
      "128/128 [==============================] - 0s 97us/step\n",
      "128/128 [==============================] - 0s 97us/step\n",
      "128/128 [==============================] - 0s 102us/step\n",
      "128/128 [==============================] - 0s 100us/step\n",
      "128/128 [==============================] - 0s 97us/step\n",
      "128/128 [==============================] - 0s 101us/step\n",
      "128/128 [==============================] - 0s 101us/step\n",
      "128/128 [==============================] - 0s 97us/step\n",
      "128/128 [==============================] - 0s 98us/step\n",
      "128/128 [==============================] - 0s 98us/step\n",
      "128/128 [==============================] - 0s 97us/step\n",
      "128/128 [==============================] - 0s 100us/step\n",
      "128/128 [==============================] - 0s 100us/step\n",
      "128/128 [==============================] - 0s 101us/step\n",
      "128/128 [==============================] - 0s 99us/step\n",
      "128/128 [==============================] - 0s 100us/step\n",
      "128/128 [==============================] - 0s 99us/step\n",
      "128/128 [==============================] - 0s 102us/step\n",
      "128/128 [==============================] - 0s 98us/step\n",
      "128/128 [==============================] - 0s 98us/step\n",
      "128/128 [==============================] - 0s 101us/step\n",
      "128/128 [==============================] - 0s 100us/step\n",
      "128/128 [==============================] - 0s 102us/step\n",
      "128/128 [==============================] - 0s 100us/step\n",
      "128/128 [==============================] - 0s 102us/step\n",
      "128/128 [==============================] - 0s 102us/step\n",
      "128/128 [==============================] - 0s 101us/step\n",
      "128/128 [==============================] - 0s 100us/step\n",
      "128/128 [==============================] - 0s 102us/step\n",
      "128/128 [==============================] - 0s 98us/step\n",
      "128/128 [==============================] - 0s 99us/step\n",
      "128/128 [==============================] - 0s 100us/step\n",
      "128/128 [==============================] - 0s 101us/step\n",
      "128/128 [==============================] - 0s 102us/step\n",
      "128/128 [==============================] - 0s 101us/step\n",
      "128/128 [==============================] - 0s 98us/step\n",
      "128/128 [==============================] - 0s 98us/step\n",
      "128/128 [==============================] - 0s 100us/step\n",
      "128/128 [==============================] - 0s 106us/step\n",
      "128/128 [==============================] - 0s 104us/step\n",
      "128/128 [==============================] - 0s 99us/step\n",
      "128/128 [==============================] - 0s 102us/step\n",
      "128/128 [==============================] - 0s 97us/step\n",
      "128/128 [==============================] - 0s 104us/step\n",
      "128/128 [==============================] - 0s 100us/step\n",
      "128/128 [==============================] - 0s 99us/step\n",
      "128/128 [==============================] - 0s 102us/step\n",
      "128/128 [==============================] - 0s 99us/step\n",
      "128/128 [==============================] - 0s 98us/step\n",
      "128/128 [==============================] - 0s 100us/step\n",
      "128/128 [==============================] - 0s 98us/step\n",
      "128/128 [==============================] - 0s 100us/step\n",
      "128/128 [==============================] - 0s 99us/step\n",
      "128/128 [==============================] - 0s 101us/step\n",
      "128/128 [==============================] - 0s 100us/step\n",
      "128/128 [==============================] - 0s 102us/step\n",
      "128/128 [==============================] - 0s 99us/step\n",
      "128/128 [==============================] - 0s 100us/step\n",
      "128/128 [==============================] - 0s 97us/step\n",
      "128/128 [==============================] - 0s 103us/step\n",
      "128/128 [==============================] - 0s 98us/step\n",
      "128/128 [==============================] - 0s 99us/step\n",
      "128/128 [==============================] - 0s 98us/step\n",
      "128/128 [==============================] - 0s 97us/step\n",
      "128/128 [==============================] - 0s 98us/step\n",
      "128/128 [==============================] - 0s 96us/step\n",
      "128/128 [==============================] - 0s 100us/step\n",
      "128/128 [==============================] - 0s 100us/step\n",
      "128/128 [==============================] - 0s 97us/step\n",
      "128/128 [==============================] - 0s 101us/step\n",
      "128/128 [==============================] - 0s 95us/step\n",
      "128/128 [==============================] - 0s 96us/step\n",
      "128/128 [==============================] - 0s 97us/step\n",
      "128/128 [==============================] - 0s 102us/step\n",
      "128/128 [==============================] - 0s 102us/step\n",
      "128/128 [==============================] - 0s 97us/step\n",
      "128/128 [==============================] - 0s 97us/step\n",
      "128/128 [==============================] - 0s 115us/step\n",
      "128/128 [==============================] - 0s 101us/step\n",
      "128/128 [==============================] - 0s 102us/step\n",
      "128/128 [==============================] - 0s 113us/step\n",
      "128/128 [==============================] - 0s 109us/step\n",
      "128/128 [==============================] - 0s 101us/step\n",
      "128/128 [==============================] - 0s 100us/step\n",
      "128/128 [==============================] - 0s 100us/step\n",
      "128/128 [==============================] - 0s 99us/step\n",
      "128/128 [==============================] - 0s 100us/step\n",
      "128/128 [==============================] - 0s 102us/step\n",
      "128/128 [==============================] - 0s 99us/step\n",
      "128/128 [==============================] - 0s 97us/step\n",
      "128/128 [==============================] - 0s 95us/step\n",
      "128/128 [==============================] - 0s 102us/step\n",
      "128/128 [==============================] - 0s 100us/step\n",
      "128/128 [==============================] - 0s 104us/step\n",
      "128/128 [==============================] - 0s 100us/step\n",
      "128/128 [==============================] - 0s 95us/step\n",
      "128/128 [==============================] - 0s 98us/step\n",
      "128/128 [==============================] - 0s 100us/step\n",
      "128/128 [==============================] - 0s 99us/step\n",
      "128/128 [==============================] - 0s 100us/step\n",
      "128/128 [==============================] - 0s 95us/step\n",
      "128/128 [==============================] - 0s 114us/step\n",
      "128/128 [==============================] - 0s 100us/step\n",
      "128/128 [==============================] - 0s 98us/step\n",
      "128/128 [==============================] - 0s 101us/step\n",
      "128/128 [==============================] - 0s 100us/step\n",
      "128/128 [==============================] - 0s 100us/step\n",
      "128/128 [==============================] - 0s 99us/step\n",
      "128/128 [==============================] - 0s 98us/step\n",
      "128/128 [==============================] - 0s 99us/step\n",
      "128/128 [==============================] - 0s 130us/step\n",
      "128/128 [==============================] - 0s 98us/step\n",
      "128/128 [==============================] - 0s 97us/step\n",
      "128/128 [==============================] - 0s 98us/step\n",
      "128/128 [==============================] - 0s 103us/step\n"
     ]
    },
    {
     "name": "stdout",
     "output_type": "stream",
     "text": [
      "128/128 [==============================] - 0s 101us/step\n",
      "128/128 [==============================] - 0s 100us/step\n",
      "128/128 [==============================] - 0s 99us/step\n",
      "128/128 [==============================] - 0s 101us/step\n",
      "128/128 [==============================] - 0s 101us/step\n",
      "128/128 [==============================] - 0s 102us/step\n",
      "128/128 [==============================] - 0s 101us/step\n",
      "128/128 [==============================] - 0s 101us/step\n",
      "128/128 [==============================] - 0s 98us/step\n",
      "128/128 [==============================] - 0s 101us/step\n",
      "128/128 [==============================] - 0s 97us/step\n",
      "128/128 [==============================] - 0s 97us/step\n",
      "128/128 [==============================] - 0s 100us/step\n",
      "128/128 [==============================] - 0s 99us/step\n",
      "128/128 [==============================] - 0s 100us/step\n",
      "128/128 [==============================] - 0s 95us/step\n",
      "128/128 [==============================] - 0s 102us/step\n",
      "128/128 [==============================] - 0s 97us/step\n",
      "128/128 [==============================] - 0s 97us/step\n",
      "128/128 [==============================] - 0s 101us/step\n",
      "128/128 [==============================] - 0s 101us/step\n",
      "128/128 [==============================] - 0s 101us/step\n",
      "128/128 [==============================] - 0s 100us/step\n",
      "128/128 [==============================] - 0s 103us/step\n",
      "128/128 [==============================] - 0s 99us/step\n",
      "128/128 [==============================] - 0s 98us/step\n",
      "128/128 [==============================] - 0s 100us/step\n",
      "128/128 [==============================] - 0s 99us/step\n",
      "128/128 [==============================] - 0s 101us/step\n",
      "128/128 [==============================] - 0s 102us/step\n",
      "128/128 [==============================] - 0s 97us/step\n",
      "128/128 [==============================] - 0s 103us/step\n",
      "128/128 [==============================] - 0s 102us/step\n",
      "128/128 [==============================] - 0s 102us/step\n",
      "128/128 [==============================] - 0s 98us/step\n",
      "128/128 [==============================] - 0s 100us/step\n",
      "128/128 [==============================] - 0s 101us/step\n",
      "128/128 [==============================] - 0s 100us/step\n",
      "128/128 [==============================] - 0s 98us/step\n",
      "128/128 [==============================] - 0s 102us/step\n",
      "128/128 [==============================] - 0s 101us/step\n",
      "128/128 [==============================] - 0s 102us/step\n",
      "128/128 [==============================] - 0s 104us/step\n",
      "128/128 [==============================] - 0s 101us/step\n",
      "128/128 [==============================] - 0s 101us/step\n",
      "128/128 [==============================] - 0s 97us/step\n",
      "128/128 [==============================] - 0s 101us/step\n",
      "128/128 [==============================] - 0s 96us/step\n",
      "128/128 [==============================] - 0s 96us/step\n",
      "128/128 [==============================] - 0s 95us/step\n",
      "128/128 [==============================] - 0s 100us/step\n",
      "128/128 [==============================] - 0s 99us/step\n",
      "128/128 [==============================] - 0s 97us/step\n",
      "128/128 [==============================] - 0s 101us/step\n",
      "128/128 [==============================] - 0s 99us/step\n",
      "128/128 [==============================] - 0s 95us/step\n",
      "128/128 [==============================] - 0s 96us/step\n",
      "128/128 [==============================] - 0s 97us/step\n",
      "128/128 [==============================] - 0s 98us/step\n",
      "128/128 [==============================] - 0s 98us/step\n",
      "128/128 [==============================] - 0s 101us/step\n",
      "128/128 [==============================] - 0s 98us/step\n",
      "128/128 [==============================] - 0s 98us/step\n",
      "128/128 [==============================] - 0s 98us/step\n",
      "128/128 [==============================] - 0s 97us/step\n",
      "128/128 [==============================] - 0s 106us/step\n",
      "128/128 [==============================] - 0s 108us/step\n",
      "128/128 [==============================] - 0s 103us/step\n",
      "128/128 [==============================] - 0s 99us/step\n",
      "128/128 [==============================] - 0s 102us/step\n",
      "128/128 [==============================] - 0s 103us/step\n",
      "128/128 [==============================] - 0s 101us/step\n",
      "128/128 [==============================] - 0s 100us/step\n",
      "128/128 [==============================] - 0s 102us/step\n",
      "128/128 [==============================] - 0s 104us/step\n",
      "128/128 [==============================] - 0s 103us/step\n",
      "128/128 [==============================] - 0s 103us/step\n",
      "128/128 [==============================] - 0s 97us/step\n",
      "128/128 [==============================] - 0s 101us/step\n",
      "128/128 [==============================] - 0s 127us/step\n",
      "128/128 [==============================] - 0s 99us/step\n",
      "128/128 [==============================] - 0s 100us/step\n",
      "128/128 [==============================] - 0s 101us/step\n",
      "128/128 [==============================] - 0s 101us/step\n",
      "128/128 [==============================] - 0s 100us/step\n",
      "128/128 [==============================] - 0s 97us/step\n",
      "128/128 [==============================] - 0s 100us/step\n",
      "128/128 [==============================] - 0s 101us/step\n",
      "128/128 [==============================] - 0s 102us/step\n",
      "128/128 [==============================] - 0s 96us/step\n",
      "128/128 [==============================] - 0s 100us/step\n",
      "128/128 [==============================] - 0s 101us/step\n",
      "128/128 [==============================] - 0s 116us/step\n",
      "128/128 [==============================] - 0s 105us/step\n",
      "128/128 [==============================] - 0s 101us/step\n",
      "128/128 [==============================] - 0s 99us/step\n",
      "128/128 [==============================] - 0s 98us/step\n",
      "128/128 [==============================] - 0s 102us/step\n",
      "128/128 [==============================] - 0s 97us/step\n",
      "128/128 [==============================] - 0s 100us/step\n",
      "128/128 [==============================] - 0s 97us/step\n",
      "128/128 [==============================] - 0s 97us/step\n",
      "128/128 [==============================] - 0s 98us/step\n",
      "128/128 [==============================] - 0s 101us/step\n",
      "128/128 [==============================] - 0s 101us/step\n",
      "128/128 [==============================] - 0s 100us/step\n",
      "128/128 [==============================] - 0s 97us/step\n",
      "128/128 [==============================] - 0s 101us/step\n",
      "128/128 [==============================] - 0s 103us/step\n",
      "128/128 [==============================] - 0s 100us/step\n",
      "128/128 [==============================] - 0s 98us/step\n"
     ]
    }
   ],
   "source": [
    "#computing the score for all nodules \n",
    "#positive nodules \n",
    "L_log_pos =[]\n",
    "for i in range(x_train_pos_.shape[0]):\n",
    "    x_datapoint_pos = np.vstack((x_train_pos_[[i]],)*128)\n",
    "    L_datapoint_pos  = vae.evaluate(x_datapoint_pos, x_datapoint_pos,batch_size = 128)\n",
    "\n",
    "    kl_loss_datapoint = L_datapoint_pos[2]\n",
    "    reconstruction_error_datapoint = L_datapoint_pos[3]\n",
    "    L_log_p = kl_loss_datapoint + reconstruction_error_datapoint\n",
    "    L_log_pos_ = L_log_pos.append(L_log_p)\n",
    "    \n",
    "    "
   ]
  },
  {
   "cell_type": "code",
   "execution_count": 368,
   "metadata": {},
   "outputs": [
    {
     "data": {
      "text/plain": [
       "[24.784483909606934,\n",
       " 36.79400157928467,\n",
       " 22.784729957580566,\n",
       " 21.99796485900879,\n",
       " 25.136857986450195,\n",
       " 29.49386215209961,\n",
       " 39.85799503326416,\n",
       " 42.1907901763916,\n",
       " 27.442015647888184,\n",
       " 24.693188667297363,\n",
       " 24.298076629638672,\n",
       " 31.628308296203613,\n",
       " 24.5687255859375,\n",
       " 32.401713371276855,\n",
       " 26.786968231201172,\n",
       " 26.08807945251465,\n",
       " 25.171878814697266,\n",
       " 34.70906925201416,\n",
       " 26.53720760345459,\n",
       " 22.88464641571045,\n",
       " 26.95462989807129,\n",
       " 30.220956802368164,\n",
       " 24.833370208740234,\n",
       " 24.192784309387207,\n",
       " 28.94461441040039,\n",
       " 28.461627960205078,\n",
       " 27.005324363708496,\n",
       " 38.07843017578125,\n",
       " 40.14433670043945,\n",
       " 29.65259075164795,\n",
       " 28.46519947052002,\n",
       " 26.225387573242188,\n",
       " 26.78109836578369,\n",
       " 34.3230562210083,\n",
       " 22.896855354309082,\n",
       " 23.048234939575195,\n",
       " 24.839706420898438,\n",
       " 23.385683059692383,\n",
       " 21.782005310058594,\n",
       " 24.346068382263184,\n",
       " 22.870771408081055,\n",
       " 23.1368350982666,\n",
       " 38.666486740112305,\n",
       " 30.102928161621094,\n",
       " 23.65556240081787,\n",
       " 27.01477336883545,\n",
       " 34.84177875518799,\n",
       " 28.928553581237793,\n",
       " 32.42173480987549,\n",
       " 28.655539512634277,\n",
       " 23.748488426208496,\n",
       " 37.13401412963867,\n",
       " 27.41819953918457,\n",
       " 27.61405658721924,\n",
       " 31.13479518890381,\n",
       " 24.87882423400879,\n",
       " 25.330254554748535,\n",
       " 27.249197006225586,\n",
       " 27.3324613571167,\n",
       " 21.442944526672363,\n",
       " 29.88033676147461,\n",
       " 21.96137237548828,\n",
       " 22.56795883178711,\n",
       " 24.15837574005127,\n",
       " 26.94450092315674,\n",
       " 29.291969299316406,\n",
       " 23.681410789489746,\n",
       " 20.689136505126953,\n",
       " 26.699831008911133,\n",
       " 30.72411346435547,\n",
       " 29.433518409729004,\n",
       " 30.394670486450195,\n",
       " 24.29490375518799,\n",
       " 28.059663772583008,\n",
       " 27.690345764160156,\n",
       " 21.284435272216797,\n",
       " 27.000534057617188,\n",
       " 29.158970832824707,\n",
       " 31.76275634765625,\n",
       " 24.757389068603516,\n",
       " 28.252450942993164,\n",
       " 27.55040168762207,\n",
       " 32.64006233215332,\n",
       " 22.155083656311035,\n",
       " 29.341042518615723,\n",
       " 33.57887268066406,\n",
       " 29.19037914276123,\n",
       " 29.200875282287598,\n",
       " 23.701332092285156,\n",
       " 27.995752334594727,\n",
       " 22.263015747070312,\n",
       " 23.300009727478027,\n",
       " 30.229894638061523,\n",
       " 29.76276206970215,\n",
       " 22.717896461486816,\n",
       " 36.73247528076172,\n",
       " 25.450786590576172,\n",
       " 23.12106704711914,\n",
       " 36.23848247528076,\n",
       " 26.24445343017578,\n",
       " 37.84486770629883,\n",
       " 29.9892635345459,\n",
       " 26.28251552581787,\n",
       " 29.74034881591797,\n",
       " 40.48801326751709,\n",
       " 25.259239196777344,\n",
       " 26.50969123840332,\n",
       " 26.956658363342285,\n",
       " 32.06205081939697,\n",
       " 34.183067321777344,\n",
       " 24.888662338256836,\n",
       " 30.700584411621094,\n",
       " 50.4716215133667,\n",
       " 21.00599765777588,\n",
       " 26.389646530151367,\n",
       " 27.45338535308838,\n",
       " 26.492977142333984,\n",
       " 41.20598030090332,\n",
       " 24.276333808898926,\n",
       " 28.59196376800537,\n",
       " 35.32039833068848,\n",
       " 27.612000465393066,\n",
       " 24.787131309509277,\n",
       " 26.045527458190918,\n",
       " 32.68295097351074,\n",
       " 33.01371955871582,\n",
       " 28.253957748413086,\n",
       " 27.24602508544922,\n",
       " 32.21880912780762,\n",
       " 28.781962394714355,\n",
       " 25.333005905151367,\n",
       " 25.67300510406494,\n",
       " 23.68135166168213,\n",
       " 34.60377216339111,\n",
       " 25.630711555480957,\n",
       " 26.358020782470703,\n",
       " 25.36902904510498,\n",
       " 36.167189598083496,\n",
       " 35.111098289489746,\n",
       " 32.25038242340088,\n",
       " 39.69523048400879,\n",
       " 22.428406715393066,\n",
       " 23.329814910888672,\n",
       " 25.947967529296875,\n",
       " 24.26480007171631,\n",
       " 25.94943904876709,\n",
       " 32.76248264312744,\n",
       " 24.40224266052246,\n",
       " 35.01198196411133,\n",
       " 23.87472915649414,\n",
       " 41.35444259643555,\n",
       " 21.49711322784424,\n",
       " 23.22399139404297,\n",
       " 25.293764114379883,\n",
       " 33.28435707092285,\n",
       " 27.213680267333984,\n",
       " 30.78837776184082,\n",
       " 29.39259433746338,\n",
       " 48.525590896606445,\n",
       " 30.078672409057617,\n",
       " 23.4998779296875,\n",
       " 23.43230438232422,\n",
       " 23.214448928833008,\n",
       " 24.641005516052246,\n",
       " 28.72486400604248,\n",
       " 24.97589111328125,\n",
       " 22.187456607818604,\n",
       " 29.754508018493652,\n",
       " 27.16460609436035,\n",
       " 22.909196853637695,\n",
       " 24.400877952575684,\n",
       " 32.53872013092041,\n",
       " 22.718233108520508,\n",
       " 23.64124298095703,\n",
       " 26.553979873657227,\n",
       " 33.98918533325195,\n",
       " 23.76610279083252,\n",
       " 33.58389663696289,\n",
       " 25.412378311157227,\n",
       " 23.040802001953125,\n",
       " 25.14148712158203,\n",
       " 25.3231143951416,\n",
       " 32.34886169433594,\n",
       " 24.534708976745605,\n",
       " 26.702802658081055,\n",
       " 41.50791835784912,\n",
       " 25.2318754196167,\n",
       " 35.19564151763916,\n",
       " 26.722118377685547,\n",
       " 30.930389404296875,\n",
       " 35.39081573486328,\n",
       " 34.489145278930664,\n",
       " 34.67965316772461,\n",
       " 28.790589332580566,\n",
       " 25.87530517578125,\n",
       " 32.5422945022583,\n",
       " 25.776345252990723,\n",
       " 22.38629150390625,\n",
       " 25.40634536743164,\n",
       " 24.22793674468994,\n",
       " 35.20094680786133,\n",
       " 32.324655532836914,\n",
       " 32.180410385131836,\n",
       " 24.842576026916504,\n",
       " 28.07642936706543,\n",
       " 33.59763050079346,\n",
       " 25.401357650756836,\n",
       " 23.532718658447266,\n",
       " 31.946901321411133,\n",
       " 26.43842124938965,\n",
       " 25.0404109954834,\n",
       " 27.73366641998291,\n",
       " 31.10603904724121,\n",
       " 26.509092330932617,\n",
       " 25.273911476135254,\n",
       " 23.880587577819824,\n",
       " 28.689061164855957,\n",
       " 30.73366355895996,\n",
       " 22.560446739196777,\n",
       " 22.93364143371582,\n",
       " 28.262283325195312,\n",
       " 34.51669120788574,\n",
       " 26.880656242370605,\n",
       " 24.73033618927002,\n",
       " 34.223716735839844,\n",
       " 26.70976448059082,\n",
       " 32.67912673950195,\n",
       " 25.678139686584473,\n",
       " 26.71018886566162,\n",
       " 25.544981002807617,\n",
       " 24.386595726013184,\n",
       " 25.27635955810547,\n",
       " 28.28870391845703,\n",
       " 23.23961639404297,\n",
       " 27.185453414916992,\n",
       " 30.057849884033203,\n",
       " 29.848886489868164,\n",
       " 36.563836097717285,\n",
       " 32.18360424041748,\n",
       " 25.103468894958496,\n",
       " 31.411880493164062,\n",
       " 23.351829528808594,\n",
       " 24.826258659362793,\n",
       " 21.34023094177246,\n",
       " 27.399998664855957,\n",
       " 24.8792085647583,\n",
       " 26.996307373046875,\n",
       " 35.757086753845215,\n",
       " 27.793001174926758,\n",
       " 23.230743408203125,\n",
       " 24.599842071533203,\n",
       " 23.284759521484375,\n",
       " 20.629047393798828,\n",
       " 27.09242343902588,\n",
       " 21.422067642211914,\n",
       " 25.959813117980957]"
      ]
     },
     "execution_count": 368,
     "metadata": {},
     "output_type": "execute_result"
    }
   ],
   "source": [
    "L_log_neg"
   ]
  },
  {
   "cell_type": "code",
   "execution_count": 370,
   "metadata": {},
   "outputs": [
    {
     "data": {
      "text/plain": [
       "[38.6754789352417,\n",
       " 28.028910636901855,\n",
       " 28.917377471923828,\n",
       " 25.84379005432129,\n",
       " 25.4835147857666,\n",
       " 33.08652305603027,\n",
       " 32.93290996551514,\n",
       " 31.014209747314453,\n",
       " 29.371193885803223,\n",
       " 40.10645771026611,\n",
       " 36.35755920410156,\n",
       " 46.445143699645996,\n",
       " 29.11243438720703,\n",
       " 23.103144645690918,\n",
       " 26.318320274353027,\n",
       " 39.47807693481445,\n",
       " 29.991052627563477,\n",
       " 33.27274990081787,\n",
       " 33.237937927246094,\n",
       " 30.729629516601562,\n",
       " 28.098875999450684,\n",
       " 36.20233726501465,\n",
       " 29.59579563140869,\n",
       " 28.179831504821777,\n",
       " 28.1087646484375,\n",
       " 27.288723945617676,\n",
       " 35.19797992706299,\n",
       " 25.1744327545166,\n",
       " 28.132200241088867,\n",
       " 46.146803855895996,\n",
       " 29.89724636077881,\n",
       " 31.02178382873535,\n",
       " 27.32702350616455,\n",
       " 26.833304405212402,\n",
       " 40.523518562316895,\n",
       " 37.72048377990723,\n",
       " 33.15940761566162,\n",
       " 31.772844314575195,\n",
       " 34.63337516784668,\n",
       " 31.399234771728516,\n",
       " 31.965018272399902,\n",
       " 33.67660140991211,\n",
       " 33.824164390563965,\n",
       " 26.560447692871094,\n",
       " 28.450485229492188,\n",
       " 29.396485328674316,\n",
       " 26.20226001739502,\n",
       " 55.217766761779785,\n",
       " 30.776262283325195,\n",
       " 39.241268157958984,\n",
       " 26.795927047729492,\n",
       " 42.48702621459961,\n",
       " 28.921412467956543,\n",
       " 26.446168899536133,\n",
       " 33.943766593933105,\n",
       " 38.579946517944336,\n",
       " 32.10678482055664,\n",
       " 38.323201179504395,\n",
       " 30.203107833862305,\n",
       " 31.05992317199707,\n",
       " 26.3177490234375,\n",
       " 29.510356903076172,\n",
       " 31.15762996673584,\n",
       " 35.720693588256836,\n",
       " 35.62158679962158,\n",
       " 24.952197074890137,\n",
       " 39.30360698699951,\n",
       " 36.36450958251953,\n",
       " 60.263691902160645,\n",
       " 38.794243812561035,\n",
       " 35.22786808013916,\n",
       " 31.82346248626709,\n",
       " 94.80298042297363,\n",
       " 30.653072357177734,\n",
       " 29.82116985321045,\n",
       " 33.40012264251709,\n",
       " 30.652029037475586,\n",
       " 32.30908393859863,\n",
       " 35.116129875183105,\n",
       " 48.892516136169434,\n",
       " 40.206398010253906,\n",
       " 45.99449920654297,\n",
       " 44.66237735748291,\n",
       " 32.91201305389404,\n",
       " 35.48605442047119,\n",
       " 31.20707607269287,\n",
       " 31.881887435913086,\n",
       " 27.047595977783203,\n",
       " 60.64130783081055,\n",
       " 34.667564392089844,\n",
       " 25.589534759521484,\n",
       " 42.37435817718506,\n",
       " 22.261664390563965,\n",
       " 40.09369373321533,\n",
       " 53.49007225036621,\n",
       " 39.36928367614746,\n",
       " 44.25168228149414,\n",
       " 37.672691345214844,\n",
       " 48.58318901062012,\n",
       " 28.55309295654297,\n",
       " 46.025312423706055,\n",
       " 26.98478889465332,\n",
       " 34.24331092834473,\n",
       " 38.75014686584473,\n",
       " 34.58109760284424,\n",
       " 30.81079864501953,\n",
       " 32.378366470336914,\n",
       " 55.53639507293701,\n",
       " 36.51755619049072,\n",
       " 31.86354637145996,\n",
       " 41.3555850982666,\n",
       " 29.17226791381836,\n",
       " 26.103754997253418,\n",
       " 49.74432373046875,\n",
       " 37.03714179992676,\n",
       " 34.394365310668945,\n",
       " 35.70307731628418,\n",
       " 36.53292274475098,\n",
       " 37.18602275848389,\n",
       " 38.72407054901123,\n",
       " 47.23933410644531,\n",
       " 34.56669330596924,\n",
       " 33.505242347717285,\n",
       " 26.3891658782959,\n",
       " 30.3397216796875,\n",
       " 60.272382736206055,\n",
       " 42.53898906707764,\n",
       " 36.88712978363037,\n",
       " 24.19253444671631,\n",
       " 29.192880630493164,\n",
       " 32.910505294799805,\n",
       " 25.296278953552246,\n",
       " 34.78739833831787,\n",
       " 32.212801933288574,\n",
       " 31.265363693237305,\n",
       " 32.125478744506836,\n",
       " 37.76797294616699,\n",
       " 28.140185356140137,\n",
       " 43.639949798583984,\n",
       " 49.35799503326416,\n",
       " 29.46288013458252,\n",
       " 27.209781646728516,\n",
       " 29.968356132507324,\n",
       " 29.120826721191406,\n",
       " 37.493621826171875,\n",
       " 38.913095474243164,\n",
       " 27.655179977416992,\n",
       " 25.558124542236328,\n",
       " 26.424946784973145,\n",
       " 30.66379165649414,\n",
       " 33.27839469909668,\n",
       " 45.184648513793945,\n",
       " 35.122148513793945,\n",
       " 28.36907958984375,\n",
       " 36.979095458984375,\n",
       " 51.96994495391846,\n",
       " 64.91655540466309,\n",
       " 36.953829765319824,\n",
       " 26.844332695007324,\n",
       " 45.00915336608887,\n",
       " 35.20751476287842,\n",
       " 51.69357681274414,\n",
       " 24.391377449035645,\n",
       " 37.5323429107666,\n",
       " 37.87503242492676,\n",
       " 36.06830549240112,\n",
       " 49.25744342803955,\n",
       " 50.95089912414551,\n",
       " 42.08723545074463,\n",
       " 32.720858573913574,\n",
       " 32.19479942321777,\n",
       " 30.896489143371582,\n",
       " 45.0482063293457,\n",
       " 45.7755651473999,\n",
       " 43.79628086090088,\n",
       " 40.518513679504395,\n",
       " 30.321389198303223,\n",
       " 25.998970985412598,\n",
       " 37.32184600830078,\n",
       " 30.450932502746582,\n",
       " 25.39419651031494,\n",
       " 42.31324005126953,\n",
       " 35.84278869628906,\n",
       " 44.55070781707764,\n",
       " 39.51855659484863,\n",
       " 45.73674488067627,\n",
       " 48.73661231994629,\n",
       " 33.796836853027344,\n",
       " 51.80956840515137,\n",
       " 48.67312431335449,\n",
       " 26.013371467590332,\n",
       " 36.96503829956055,\n",
       " 54.748541831970215,\n",
       " 34.377455711364746,\n",
       " 36.4654426574707,\n",
       " 39.68331718444824,\n",
       " 23.001855850219727,\n",
       " 30.751269340515137,\n",
       " 32.552491188049316,\n",
       " 50.60122585296631,\n",
       " 37.29636287689209,\n",
       " 24.428544998168945,\n",
       " 28.640512466430664,\n",
       " 43.375962257385254,\n",
       " 27.654788970947266,\n",
       " 43.454938888549805,\n",
       " 38.57336902618408,\n",
       " 34.44462013244629,\n",
       " 27.63230609893799,\n",
       " 37.1702995300293,\n",
       " 25.11256694793701,\n",
       " 28.473146438598633,\n",
       " 27.801219940185547,\n",
       " 36.00159931182861,\n",
       " 26.044050216674805,\n",
       " 32.76059341430664,\n",
       " 30.263087272644043,\n",
       " 42.56104564666748,\n",
       " 34.13521099090576,\n",
       " 26.835607528686523,\n",
       " 38.18305492401123,\n",
       " 32.17031478881836,\n",
       " 34.149770736694336,\n",
       " 32.7573766708374,\n",
       " 41.80975341796875,\n",
       " 33.16437339782715,\n",
       " 57.552907943725586,\n",
       " 38.71922969818115,\n",
       " 35.69004821777344,\n",
       " 47.684518814086914,\n",
       " 44.61042785644531,\n",
       " 30.595988273620605,\n",
       " 32.20320701599121,\n",
       " 37.992380142211914,\n",
       " 29.170879364013672,\n",
       " 37.78261661529541,\n",
       " 44.78685665130615,\n",
       " 26.230481147766113,\n",
       " 36.04045486450195,\n",
       " 25.61895751953125,\n",
       " 33.36552143096924,\n",
       " 40.28330993652344,\n",
       " 43.124281883239746,\n",
       " 32.66211128234863,\n",
       " 31.610173225402832,\n",
       " 44.221065521240234,\n",
       " 26.95848274230957,\n",
       " 37.128915786743164,\n",
       " 45.01435661315918,\n",
       " 38.882304191589355,\n",
       " 32.046234130859375,\n",
       " 38.06266117095947,\n",
       " 32.3200159072876,\n",
       " 26.00324058532715,\n",
       " 35.0012321472168,\n",
       " 47.975911140441895]"
      ]
     },
     "execution_count": 370,
     "metadata": {},
     "output_type": "execute_result"
    }
   ],
   "source": [
    "L_log_pos"
   ]
  },
  {
   "cell_type": "code",
   "execution_count": 356,
   "metadata": {},
   "outputs": [
    {
     "data": {
      "text/plain": [
       "<matplotlib.image.AxesImage at 0x2abf13109748>"
      ]
     },
     "execution_count": 356,
     "metadata": {},
     "output_type": "execute_result"
    },
    {
     "data": {
      "image/png": "[encoded data removed]",
      "text/plain": [
       "<Figure size 432x288 with 1 Axes>"
      ]
     },
     "metadata": {},
     "output_type": "display_data"
    }
   ],
   "source": [
    "plt.imshow(np.squeeze(L_datapoint_neg_predict[0]))"
   ]
  },
  {
   "cell_type": "markdown",
   "metadata": {},
   "source": [
    "## create model only with input and output z_mean and z_log_var"
   ]
  },
  {
   "cell_type": "markdown",
   "metadata": {},
   "source": [
    "## computing KL_loss with predict"
   ]
  },
  {
   "cell_type": "code",
   "execution_count": 339,
   "metadata": {
    "collapsed": true
   },
   "outputs": [],
   "source": [
    "encoder = Model(x, [z_mean, z_log_var])"
   ]
  },
  {
   "cell_type": "code",
   "execution_count": 340,
   "metadata": {
    "collapsed": true
   },
   "outputs": [],
   "source": [
    "encoder.load_weights(weights_file, by_name=True)"
   ]
  },
  {
   "cell_type": "code",
   "execution_count": 221,
   "metadata": {
    "collapsed": true
   },
   "outputs": [],
   "source": [
    "x_train_neg_ = x_train_neg[:256]\n",
    "x_train_pos_ = x_train_pos[:256]"
   ]
  },
  {
   "cell_type": "code",
   "execution_count": 348,
   "metadata": {
    "collapsed": true
   },
   "outputs": [],
   "source": [
    "kl_computed_manually_datapoint = encoder.predict(x_datapoint_neg) #predict for negative\n",
    "z_mean_datap = kl_computed_manually_datapoint[0]\n",
    "z_log_var_datap = kl_computed_manually_datapoint[1]\n",
    "kl_datap_man = - 0.5 * np.sum(1 + z_log_var_datap - np.square(z_mean_datap) - np.exp(z_log_var_datap))"
   ]
  },
  {
   "cell_type": "code",
   "execution_count": 349,
   "metadata": {
    "collapsed": true
   },
   "outputs": [],
   "source": [
    "kl_datap_man /=128"
   ]
  },
  {
   "cell_type": "code",
   "execution_count": 350,
   "metadata": {},
   "outputs": [
    {
     "data": {
      "text/plain": [
       "11.772207260131836"
      ]
     },
     "execution_count": 350,
     "metadata": {},
     "output_type": "execute_result"
    }
   ],
   "source": [
    "kl_datap_man"
   ]
  },
  {
   "cell_type": "code",
   "execution_count": 229,
   "metadata": {},
   "outputs": [
    {
     "data": {
      "text/plain": [
       "[35.58159828186035,\n",
       " 0.03178972005844116,\n",
       " 10.658454418182373,\n",
       " 24.923142433166504]"
      ]
     },
     "execution_count": 229,
     "metadata": {},
     "output_type": "execute_result"
    }
   ],
   "source": [
    "metrics_vae"
   ]
  },
  {
   "cell_type": "code",
   "execution_count": 237,
   "metadata": {},
   "outputs": [
    {
     "data": {
      "text/plain": [
       "(256, 1, 28, 28)"
      ]
     },
     "execution_count": 237,
     "metadata": {},
     "output_type": "execute_result"
    }
   ],
   "source": [
    "out_pos.shape"
   ]
  },
  {
   "cell_type": "code",
   "execution_count": 234,
   "metadata": {
    "collapsed": true
   },
   "outputs": [],
   "source": [
    "from sklearn.metrics import mean_squared_error"
   ]
  },
  {
   "cell_type": "markdown",
   "metadata": {},
   "source": [
    "## Check reconstruction"
   ]
  },
  {
   "cell_type": "code",
   "execution_count": 180,
   "metadata": {},
   "outputs": [
    {
     "data": {
      "text/plain": [
       "<matplotlib.image.AxesImage at 0x2abec2d01f28>"
      ]
     },
     "execution_count": 180,
     "metadata": {},
     "output_type": "execute_result"
    },
    {
     "data": {
      "image/png": "[encoded data removed]",
      "text/plain": [
       "<Figure size 432x288 with 1 Axes>"
      ]
     },
     "metadata": {},
     "output_type": "display_data"
    }
   ],
   "source": [
    "%matplotlib inline\n",
    "img = 100\n",
    "plt.imshow(np.squeeze(x_train_neg_[img]), cmap ='gray')\n",
    "\n"
   ]
  },
  {
   "cell_type": "code",
   "execution_count": 184,
   "metadata": {},
   "outputs": [
    {
     "data": {
      "text/plain": [
       "<matplotlib.image.AxesImage at 0x2abec2ec96d8>"
      ]
     },
     "execution_count": 184,
     "metadata": {},
     "output_type": "execute_result"
    },
    {
     "data": {
      "image/png": "[encoded data removed]",
      "text/plain": [
       "<Figure size 432x288 with 1 Axes>"
      ]
     },
     "metadata": {},
     "output_type": "display_data"
    }
   ],
   "source": [
    "plt.imshow(np.squeeze(out_neg[img]), cmap ='gray')"
   ]
  },
  {
   "cell_type": "markdown",
   "metadata": {},
   "source": [
    "## computing MLE score"
   ]
  },
  {
   "cell_type": "code",
   "execution_count": 410,
   "metadata": {},
   "outputs": [
    {
     "data": {
      "text/plain": [
       "(array([65., 95., 55., 28.,  8.,  4.,  0.,  0.,  0.,  1.]),\n",
       " array([22.26166439, 29.51579599, 36.7699276 , 44.0240592 , 51.2781908 ,\n",
       "        58.53232241, 65.78645401, 73.04058561, 80.29471722, 87.54884882,\n",
       "        94.80298042]),\n",
       " <a list of 10 Patch objects>)"
      ]
     },
     "execution_count": 410,
     "metadata": {},
     "output_type": "execute_result"
    },
    {
     "data": {
      "image/png": "[encoded data removed]",
      "text/plain": [
       "<Figure size 432x288 with 1 Axes>"
      ]
     },
     "metadata": {},
     "output_type": "display_data"
    }
   ],
   "source": [
    "plt.hist(L_log_neg)\n",
    "plt.hist(L_log_pos)\n"
   ]
  },
  {
   "cell_type": "code",
   "execution_count": 401,
   "metadata": {},
   "outputs": [
    {
     "data": {
      "image/png": "[encoded data removed]",
      "text/plain": [
       "<Figure size 432x288 with 1 Axes>"
      ]
     },
     "metadata": {},
     "output_type": "display_data"
    }
   ],
   "source": [
    "P_x_pos = sns.distplot(L_log_pos).get_lines()[0].get_data()\n",
    "P_x_neg = sns.distplot(L_log_neg).get_lines()[0].get_data()\n"
   ]
  },
  {
   "cell_type": "code",
   "execution_count": 71,
   "metadata": {
    "collapsed": true
   },
   "outputs": [],
   "source": [
    "prob_pos = np.exp(-scores_pos)\n",
    "prob_neg = np.exp(-scores_neg)"
   ]
  },
  {
   "cell_type": "code",
   "execution_count": 32,
   "metadata": {},
   "outputs": [
    {
     "data": {
      "text/plain": [
       "<matplotlib.legend.Legend at 0x2b49cefecdd8>"
      ]
     },
     "execution_count": 32,
     "metadata": {},
     "output_type": "execute_result"
    },
    {
     "data": {
      "image/png": "[encoded data removed]",
      "text/plain": [
       "<Figure size 432x288 with 1 Axes>"
      ]
     },
     "metadata": {},
     "output_type": "display_data"
    }
   ],
   "source": [
    "import seaborn as sns\n",
    "plt.figure()\n",
    "ax1 = sns.distplot(L_log_pos , hist = False, kde = True,\n",
    "                 kde_kws = {'linewidth': 1, 'shade':True}, label='anomalies',color=\"red\")\n",
    "ax2 = sns.distplot(L_log_neg , hist = False, kde = True,\n",
    "                 kde_kws = {'linewidth': 1, 'shade':True}, label='normal samples', color= \"blue\")\n",
    "\n",
    "\n",
    "\n",
    "plt.title('Density function of two Log p(x) using VAE-AD values')\n",
    "plt.xlabel('ELBO value')\n",
    "plt.ylabel('Density')\n",
    "plt.legend()\n"
   ]
  },
  {
   "cell_type": "markdown",
   "metadata": {},
   "source": [
    "## AUROC Anomaly"
   ]
  },
  {
   "cell_type": "code",
   "execution_count": 39,
   "metadata": {
    "collapsed": true
   },
   "outputs": [],
   "source": [
    "import sklearn.metrics as skl\n",
    "y_true_neg = np.zeros([256,1])\n",
    "y_true_pos = np.ones([256,1])\n",
    "y_true = np.concatenate((y_true_neg, y_true_pos))\n",
    "\n",
    "y_pred = np.concatenate((L_log_neg, L_log_pos))\n",
    "\n",
    "fpr, tpr, thresholds = skl.roc_curve(y_true, y_pred, pos_label=1)\n",
    "roc_auc = skl.auc(fpr, tpr)"
   ]
  },
  {
   "cell_type": "code",
   "execution_count": 40,
   "metadata": {},
   "outputs": [
    {
     "data": {
      "image/png": "[encoded data removed]",
      "text/plain": [
       "<Figure size 432x288 with 1 Axes>"
      ]
     },
     "metadata": {},
     "output_type": "display_data"
    }
   ],
   "source": [
    "plt.figure()\n",
    "lw = 2\n",
    "plt.plot(fpr, tpr, color='darkorange',\n",
    "         lw=lw, label='ROC curve (area = %0.2f)' % roc_auc)\n",
    "plt.plot([0, 1], [0, 1], color='navy', lw=lw, linestyle='--')\n",
    "plt.xlim([0.0, 1.0])\n",
    "plt.ylim([0.0, 1.05])\n",
    "plt.xlabel('False Positive Rate')\n",
    "plt.ylabel('True Positive Rate')\n",
    "plt.title('Receiver operating characteristic')\n",
    "plt.legend(loc=\"lower right\")\n",
    "plt.show()"
   ]
  },
  {
   "cell_type": "code",
   "execution_count": 33,
   "metadata": {
    "collapsed": true
   },
   "outputs": [],
   "source": [
    "y_true_neg = np.zeros([256,1])\n",
    "y_true_pos = np.ones([256,1])\n",
    "y_true = np.concatenate((y_true_neg, y_true_pos))\n",
    "\n",
    "scores = np.concatenate((L_log_neg, L_log_pos))"
   ]
  },
  {
   "cell_type": "code",
   "execution_count": 34,
   "metadata": {},
   "outputs": [
    {
     "data": {
      "text/plain": [
       "(512,)"
      ]
     },
     "execution_count": 34,
     "metadata": {},
     "output_type": "execute_result"
    }
   ],
   "source": [
    "scores.shape"
   ]
  },
  {
   "cell_type": "code",
   "execution_count": 35,
   "metadata": {
    "collapsed": true
   },
   "outputs": [],
   "source": [
    "np.save('x_train_likelihood_MNIST', scores)\n",
    "np.save('y_train_MNIST', y_true)"
   ]
  },
  {
   "cell_type": "code",
   "execution_count": null,
   "metadata": {
    "collapsed": true
   },
   "outputs": [],
   "source": [
    "mse.get_shape()"
   ]
  }
 ],
 "metadata": {
  "kernelspec": {
   "display_name": "Python 3",
   "language": "python",
   "name": "python3"
  },
  "language_info": {
   "codemirror_mode": {
    "name": "ipython",
    "version": 3
   },
   "file_extension": ".py",
   "mimetype": "text/x-python",
   "name": "python",
   "nbconvert_exporter": "python",
   "pygments_lexer": "ipython3",
   "version": "3.6.1"
  }
 },
 "nbformat": 4,
 "nbformat_minor": 2
}
