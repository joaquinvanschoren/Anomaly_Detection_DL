{
 "cells": [
  {
   "cell_type": "markdown",
   "metadata": {},
   "source": [
    "<h2 style=\"text-align:center;\"> Abnormal Parts </h2>"
   ]
  },
  {
   "cell_type": "markdown",
   "metadata": {},
   "source": [
    "This notebook will re-implement the paper Unsupervised Anomaly Detection with Generative Adversarial Networks to Guide Marker\n",
    "Discovery found at https://arxiv.org/pdf/1703.05921.pdf. "
   ]
  },
  {
   "cell_type": "markdown",
   "metadata": {},
   "source": [
    "#### Imports"
   ]
  },
  {
   "cell_type": "code",
   "execution_count": 1,
   "metadata": {},
   "outputs": [
    {
     "name": "stderr",
     "output_type": "stream",
     "text": [
      "Using TensorFlow backend.\n"
     ]
    }
   ],
   "source": [
    "%matplotlib inline\n",
    "import matplotlib.pyplot as plt\n",
    "\n",
    "# set gpu devices\n",
    "import os \n",
    "import sys\n",
    "os.environ[\"CUDA_VISIBLE_DEVICES\"] = \"0\" # choose gpu's\n",
    "os.environ['KERAS_BACKEND'] = 'tensorflow'\n",
    "\n",
    "# for not draining all gpu in jupyter\n",
    "import tensorflow as tf\n",
    "import keras.backend as K\n",
    "config = tf.ConfigProto()\n",
    "config.gpu_options.allow_growth=True\n",
    "sess = tf.Session(config=config)\n",
    "K.set_session(sess)\n",
    "\n",
    "# extra\n",
    "import cv2\n",
    "from sklearn.metrics import confusion_matrix\n",
    "import itertools\n",
    "import matplotlib.mlab as mlab\n",
    "from scipy import stats as st\n",
    "import matplotlib.image as mpimg\n",
    "import pandas as pd\n",
    "from collections import defaultdict\n",
    "from PIL import Image\n",
    "import argparse\n",
    "import math\n",
    "try:\n",
    "    import cPickle as pickle\n",
    "except ImportError:\n",
    "    import pickle\n",
    "import numpy as np\n",
    "\n",
    "# keras imports\n",
    "import keras\n",
    "from keras import backend as k\n",
    "import keras.backend as K\n",
    "from keras.utils.generic_utils import Progbar\n",
    "from keras.layers import Input, Dense, Lambda, Flatten, Reshape, Layer\n",
    "from keras.layers import Conv2D, Conv2DTranspose\n",
    "from keras.layers.core import Activation\n",
    "from keras.layers.normalization import BatchNormalization\n",
    "from keras.models import Model, load_model, Sequential\n",
    "from keras.layers import Conv2D, Conv2DTranspose, UpSampling2D\n",
    "from keras.layers import Dropout, Activation, Flatten, BatchNormalization, TimeDistributed, K\n",
    "from keras.layers.convolutional import Convolution2D, MaxPooling2D\n",
    "from keras.layers.core import Flatten\n",
    "from keras.optimizers import SGD, Adam\n",
    "# from keras import backend as K\n",
    "from keras import metrics\n",
    "from keras.datasets import mnist\n",
    "K.set_image_data_format('channels_first')"
   ]
  },
  {
   "cell_type": "code",
   "execution_count": 2,
   "metadata": {},
   "outputs": [
    {
     "name": "stdout",
     "output_type": "stream",
     "text": [
      "Shape of our dataset x_train: (60000, 1, 28, 28), x_test: (10000, 1, 28, 28)\n"
     ]
    }
   ],
   "source": [
    "# load the dataset\n",
    "(x_train, y_train), (x_test, y_test) = mnist.load_data()\n",
    "\n",
    "# normalize\n",
    "x_train = (x_train.astype(np.float32) - 127.5) / 127.5\n",
    "x_train = x_train.reshape((x_train.shape[0], 1) + x_train.shape[1:])\n",
    "\n",
    "x_test = (x_test.astype(np.float32) - 127.5) / 127.5\n",
    "x_test = x_test.reshape((x_test.shape[0], 1) + x_test.shape[1:])\n",
    "\n",
    "print('Shape of our dataset x_train: {}, x_test: {}'.format(x_train.shape, x_test.shape))\n",
    "\n"
   ]
  },
  {
   "cell_type": "code",
   "execution_count": 2,
   "metadata": {},
   "outputs": [],
   "source": [
    "# MNIST dataset\n",
    "(x_train, y_train), (x_test, y_test) = mnist.load_data()\n",
    "\n",
    "image_size = x_train.shape[1]\n",
    "x_train = np.reshape(x_train, [-1, 1, image_size, image_size])\n",
    "x_test = np.reshape(x_test, [-1, 1, image_size, image_size])\n",
    "x_train = x_train.astype('float32') / 255\n",
    "x_test = x_test.astype('float32') / 255"
   ]
  },
  {
   "cell_type": "code",
   "execution_count": 21,
   "metadata": {},
   "outputs": [
    {
     "data": {
      "text/plain": [
       "(54051, 1, 28, 28)"
      ]
     },
     "execution_count": 21,
     "metadata": {},
     "output_type": "execute_result"
    }
   ],
   "source": [
    "x_train_normal.shape"
   ]
  },
  {
   "cell_type": "code",
   "execution_count": 4,
   "metadata": {},
   "outputs": [
    {
     "data": {
      "text/plain": [
       "(9216, 1, 28, 28)"
      ]
     },
     "execution_count": 4,
     "metadata": {},
     "output_type": "execute_result"
    }
   ],
   "source": [
    "x_train_neg.shape"
   ]
  },
  {
   "cell_type": "code",
   "execution_count": 3,
   "metadata": {},
   "outputs": [],
   "source": [
    "x_train_pos = x_train[np.where(y_train == 9)]\n",
    "x_t_neg = []\n",
    "for i in range(8):\n",
    "    x_t_neg_ = x_train[np.where(y_train == i)]\n",
    "    x_t = x_t_neg_[:1152]\n",
    "    x_t_2 = x_t_neg.append(x_t)\n",
    "x_train_neg = np.reshape(np.asarray(x_t_neg), (8*1152,1,28,28))"
   ]
  },
  {
   "cell_type": "code",
   "execution_count": 6,
   "metadata": {},
   "outputs": [
    {
     "data": {
      "text/plain": [
       "<matplotlib.image.AxesImage at 0x2b94d3f20978>"
      ]
     },
     "execution_count": 6,
     "metadata": {},
     "output_type": "execute_result"
    },
    {
     "data": {
      "image/png": "[encoded data removed]",
      "text/plain": [
       "<Figure size 432x288 with 1 Axes>"
      ]
     },
     "metadata": {},
     "output_type": "display_data"
    }
   ],
   "source": [
    "plt.imshow(np.squeeze(x_train_neg[7000]))"
   ]
  },
  {
   "cell_type": "markdown",
   "metadata": {},
   "source": [
    "#### Filter normal and abnormal  "
   ]
  },
  {
   "cell_type": "markdown",
   "metadata": {},
   "source": [
    "Fo training we need only \"normal\" elements without labels. In this step, we will remove from x_train all elements considered abnormal. For testing, we need both \"normal\" and \"abnormal\" with labels {0: abnormal, 1:normal}"
   ]
  },
  {
   "cell_type": "markdown",
   "metadata": {},
   "source": [
    "The count of abnormal is significant less than the corpus of normal data"
   ]
  },
  {
   "cell_type": "markdown",
   "metadata": {},
   "source": [
    "We are interested in not using the labels y_train of the elements, because the model is completely \"unsupervised\". Even the model expressed in the paper is called unsupervised, there is a pre filtering based on the labels presented. I haven't found at the moment a name for this. If a model has no labels as input we shall call it unsupervised learning."
   ]
  },
  {
   "cell_type": "markdown",
   "metadata": {},
   "source": [
    "Now that we have our data defined, we can move to the following steps:\n",
    "1. Unsupervised Manifold Learning of Normal Anatomical Variability\n",
    "2. Mapping new Images to the Latent Space\n",
    "3. Detection of Anomalies"
   ]
  },
  {
   "cell_type": "markdown",
   "metadata": {},
   "source": [
    "### 1. Unsupervised Manifold Learning of Normal Anatomical Variability"
   ]
  },
  {
   "cell_type": "markdown",
   "metadata": {},
   "source": [
    "We use a deconvolution generative adversarial network (DCGAN) for learning the manifold of $\\mathcal{X}$ which represents the variablity of our training images. We will base the implementation on  https://github.com/jacobgil/keras-dcgan/blob/master/dcgan.py with some modifications. For completeness, we leave the link to the DCGAN paper https://arxiv.org/abs/1511.06434"
   ]
  },
  {
   "cell_type": "markdown",
   "metadata": {},
   "source": [
    "#### Helper functions"
   ]
  },
  {
   "cell_type": "markdown",
   "metadata": {},
   "source": [
    "Plot functions"
   ]
  },
  {
   "cell_type": "markdown",
   "metadata": {},
   "source": [
    "Create folders to store the training results for reuse:"
   ]
  },
  {
   "cell_type": "markdown",
   "metadata": {},
   "source": [
    "#### Model"
   ]
  },
  {
   "cell_type": "markdown",
   "metadata": {},
   "source": [
    "Define the generator and discriminator and visualize both models:"
   ]
  },
  {
   "cell_type": "code",
   "execution_count": 6,
   "metadata": {},
   "outputs": [],
   "source": [
    "def generator_model():\n",
    "    model = Sequential()\n",
    "    model.add(Dense(input_dim=100, output_dim=1024))\n",
    "    model.add(Activation('tanh'))\n",
    "    model.add(Dense(128*7*7))\n",
    "    model.add(BatchNormalization())\n",
    "    model.add(Activation('tanh'))\n",
    "    model.add(Reshape((128, 7, 7), input_shape=(128*7*7,)))\n",
    "    model.add(UpSampling2D(size=(2, 2)))\n",
    "    model.add(Convolution2D(64, 5, 5, border_mode='same'))\n",
    "    model.add(Activation('tanh'))\n",
    "    model.add(UpSampling2D(size=(2, 2)))\n",
    "    model.add(Convolution2D(1, 5, 5, border_mode='same'))\n",
    "    model.add(Activation('tanh'))\n",
    "    return model\n",
    "\n",
    "def discriminator_model():\n",
    "    model = Sequential()\n",
    "    model.add(Convolution2D(\n",
    "                        64, 5, 5,\n",
    "                        border_mode='same',\n",
    "                        input_shape=(1, 28, 28)))\n",
    "    model.add(Activation('tanh'))\n",
    "    model.add(MaxPooling2D(pool_size=(2, 2)))\n",
    "    model.add(Convolution2D(128, 5, 5))\n",
    "    model.add(Activation('tanh'))\n",
    "    model.add(MaxPooling2D(pool_size=(2, 2)))\n",
    "    model.add(Flatten())\n",
    "    model.add(Dense(1024))\n",
    "    model.add(Activation('tanh'))\n",
    "    model.add(Dense(1))\n",
    "    model.add(Activation('sigmoid'))\n",
    "    return model\n",
    "\n",
    "def generator_containing_discriminator(generator, discriminator):\n",
    "    model = Sequential()\n",
    "    model.add(generator)\n",
    "    discriminator.trainable = False\n",
    "    model.add(discriminator)\n",
    "    return model"
   ]
  },
  {
   "cell_type": "code",
   "execution_count": 7,
   "metadata": {},
   "outputs": [
    {
     "name": "stderr",
     "output_type": "stream",
     "text": [
      "/cadappl/python3/anaconda-3.5.1/lib/python3.5/site-packages/ipykernel_launcher.py:3: UserWarning: Update your `Dense` call to the Keras 2 API: `Dense(input_dim=100, units=1024)`\n",
      "  This is separate from the ipykernel package so we can avoid doing imports until\n",
      "/cadappl/python3/anaconda-3.5.1/lib/python3.5/site-packages/ipykernel_launcher.py:10: UserWarning: Update your `Conv2D` call to the Keras 2 API: `Conv2D(64, (5, 5), padding=\"same\")`\n",
      "  # Remove the CWD from sys.path while we load stuff.\n"
     ]
    },
    {
     "name": "stdout",
     "output_type": "stream",
     "text": [
      "_________________________________________________________________\n",
      "Layer (type)                 Output Shape              Param #   \n",
      "=================================================================\n",
      "dense_1 (Dense)              (None, 1024)              103424    \n",
      "_________________________________________________________________\n",
      "activation_1 (Activation)    (None, 1024)              0         \n",
      "_________________________________________________________________\n",
      "dense_2 (Dense)              (None, 6272)              6428800   \n",
      "_________________________________________________________________\n",
      "batch_normalization_1 (Batch (None, 6272)              25088     \n",
      "_________________________________________________________________\n",
      "activation_2 (Activation)    (None, 6272)              0         \n",
      "_________________________________________________________________\n",
      "reshape_1 (Reshape)          (None, 128, 7, 7)         0         \n",
      "_________________________________________________________________\n",
      "up_sampling2d_1 (UpSampling2 (None, 128, 14, 14)       0         \n",
      "_________________________________________________________________\n",
      "conv2d_1 (Conv2D)            (None, 64, 14, 14)        204864    \n",
      "_________________________________________________________________\n",
      "activation_3 (Activation)    (None, 64, 14, 14)        0         \n",
      "_________________________________________________________________\n",
      "up_sampling2d_2 (UpSampling2 (None, 64, 28, 28)        0         \n",
      "_________________________________________________________________\n",
      "conv2d_2 (Conv2D)            (None, 1, 28, 28)         1601      \n",
      "_________________________________________________________________\n",
      "activation_4 (Activation)    (None, 1, 28, 28)         0         \n",
      "=================================================================\n",
      "Total params: 6,763,777\n",
      "Trainable params: 6,751,233\n",
      "Non-trainable params: 12,544\n",
      "_________________________________________________________________\n"
     ]
    },
    {
     "name": "stderr",
     "output_type": "stream",
     "text": [
      "/cadappl/python3/anaconda-3.5.1/lib/python3.5/site-packages/ipykernel_launcher.py:13: UserWarning: Update your `Conv2D` call to the Keras 2 API: `Conv2D(1, (5, 5), padding=\"same\")`\n",
      "  del sys.path[0]\n"
     ]
    }
   ],
   "source": [
    "generator_model().summary()"
   ]
  },
  {
   "cell_type": "code",
   "execution_count": 8,
   "metadata": {},
   "outputs": [
    {
     "name": "stdout",
     "output_type": "stream",
     "text": [
      "_________________________________________________________________\n",
      "Layer (type)                 Output Shape              Param #   \n",
      "=================================================================\n",
      "conv2d_3 (Conv2D)            (None, 64, 28, 28)        1664      \n",
      "_________________________________________________________________\n",
      "activation_5 (Activation)    (None, 64, 28, 28)        0         \n",
      "_________________________________________________________________\n",
      "max_pooling2d_1 (MaxPooling2 (None, 64, 14, 14)        0         \n",
      "_________________________________________________________________\n",
      "conv2d_4 (Conv2D)            (None, 128, 10, 10)       204928    \n",
      "_________________________________________________________________\n",
      "activation_6 (Activation)    (None, 128, 10, 10)       0         \n",
      "_________________________________________________________________\n",
      "max_pooling2d_2 (MaxPooling2 (None, 128, 5, 5)         0         \n",
      "_________________________________________________________________\n",
      "flatten_1 (Flatten)          (None, 3200)              0         \n",
      "_________________________________________________________________\n",
      "dense_3 (Dense)              (None, 1024)              3277824   \n",
      "_________________________________________________________________\n",
      "activation_7 (Activation)    (None, 1024)              0         \n",
      "_________________________________________________________________\n",
      "dense_4 (Dense)              (None, 1)                 1025      \n",
      "_________________________________________________________________\n",
      "activation_8 (Activation)    (None, 1)                 0         \n",
      "=================================================================\n",
      "Total params: 3,485,441\n",
      "Trainable params: 3,485,441\n",
      "Non-trainable params: 0\n",
      "_________________________________________________________________\n"
     ]
    },
    {
     "name": "stderr",
     "output_type": "stream",
     "text": [
      "/cadappl/python3/anaconda-3.5.1/lib/python3.5/site-packages/ipykernel_launcher.py:22: UserWarning: Update your `Conv2D` call to the Keras 2 API: `Conv2D(64, (5, 5), input_shape=(1, 28, 28..., padding=\"same\")`\n",
      "/cadappl/python3/anaconda-3.5.1/lib/python3.5/site-packages/ipykernel_launcher.py:25: UserWarning: Update your `Conv2D` call to the Keras 2 API: `Conv2D(128, (5, 5))`\n"
     ]
    }
   ],
   "source": [
    "discriminator_model().summary()"
   ]
  },
  {
   "cell_type": "markdown",
   "metadata": {},
   "source": [
    "#### Train"
   ]
  },
  {
   "cell_type": "markdown",
   "metadata": {},
   "source": [
    "#### Testing score"
   ]
  },
  {
   "cell_type": "markdown",
   "metadata": {},
   "source": [
    "For testing purpose, we use data $\\mathcal{J}$ containing unseen data points during training and with labels $\\mathcal{l} \\in \\{0, 1\\}$ representing 1 normal and 0 abnormal. The paper does not specify this assignation, but we can infer it from looking at the dcgan implementation since the fake images are assigned with a value of 0 when training the discriminator."
   ]
  },
  {
   "cell_type": "code",
   "execution_count": 9,
   "metadata": {},
   "outputs": [],
   "source": [
    "%%capture --no-stdout\n",
    "# load the discriminator\n",
    "discriminator = discriminator_model()\n",
    "discriminator.load_weights('Weights/dcgan_mnist_discriminator.hdf5')\n",
    "\n",
    "# load the generator\n",
    "generator = generator_model()\n",
    "generator.load_weights('Weights/dcgan_mnist_generator.hdf5')"
   ]
  },
  {
   "cell_type": "code",
   "execution_count": 10,
   "metadata": {},
   "outputs": [
    {
     "name": "stdout",
     "output_type": "stream",
     "text": [
      "_________________________________________________________________\n",
      "Layer (type)                 Output Shape              Param #   \n",
      "=================================================================\n",
      "conv2d_5 (Conv2D)            (None, 64, 28, 28)        1664      \n",
      "_________________________________________________________________\n",
      "activation_9 (Activation)    (None, 64, 28, 28)        0         \n",
      "_________________________________________________________________\n",
      "max_pooling2d_3 (MaxPooling2 (None, 64, 14, 14)        0         \n",
      "_________________________________________________________________\n",
      "conv2d_6 (Conv2D)            (None, 128, 10, 10)       204928    \n",
      "_________________________________________________________________\n",
      "activation_10 (Activation)   (None, 128, 10, 10)       0         \n",
      "_________________________________________________________________\n",
      "max_pooling2d_4 (MaxPooling2 (None, 128, 5, 5)         0         \n",
      "_________________________________________________________________\n",
      "flatten_2 (Flatten)          (None, 3200)              0         \n",
      "_________________________________________________________________\n",
      "dense_5 (Dense)              (None, 1024)              3277824   \n",
      "_________________________________________________________________\n",
      "activation_11 (Activation)   (None, 1024)              0         \n",
      "_________________________________________________________________\n",
      "dense_6 (Dense)              (None, 1)                 1025      \n",
      "_________________________________________________________________\n",
      "activation_12 (Activation)   (None, 1)                 0         \n",
      "=================================================================\n",
      "Total params: 3,485,441\n",
      "Trainable params: 3,485,441\n",
      "Non-trainable params: 0\n",
      "_________________________________________________________________\n"
     ]
    }
   ],
   "source": [
    "discriminator.summary()"
   ]
  },
  {
   "cell_type": "markdown",
   "metadata": {},
   "source": [
    "Choose someone from x_test that we want to spot the differences. We can work with a normal one and an abnormal."
   ]
  },
  {
   "cell_type": "code",
   "execution_count": 11,
   "metadata": {},
   "outputs": [],
   "source": [
    "idx_choosen_one = 500 # index of element for mapping to the latent space\n"
   ]
  },
  {
   "cell_type": "markdown",
   "metadata": {},
   "source": [
    "Display $x$ and $G(z_{1})$"
   ]
  },
  {
   "cell_type": "code",
   "execution_count": 12,
   "metadata": {},
   "outputs": [
    {
     "data": {
      "image/png": "[encoded data removed]",
      "text/plain": [
       "<Figure size 432x288 with 2 Axes>"
      ]
     },
     "metadata": {},
     "output_type": "display_data"
    }
   ],
   "source": [
    "# select x and z1\n",
    "x = x_train_pos[idx_choosen_one]\n",
    "z = z1 = np.random.uniform(-1, 1, (1, 100)) #(1 image, latent_size)\n",
    "g_z = g_z1 = generator.predict(z1) # G(z1)\n",
    "\n",
    "# plot\n",
    "names = ['x', 'G(z1)']\n",
    "images = [np.squeeze(x), np.squeeze(g_z1)]\n",
    "plt.figure(1)\n",
    "for idx in range(2):\n",
    "    plt.subplot(1, 2, idx+1)\n",
    "    plt.axis('off')\n",
    "    plt.title(names[idx])\n",
    "    plt.imshow(images[idx], cmap=plt.get_cmap('gray'))\n",
    "plt.show()"
   ]
  },
  {
   "cell_type": "markdown",
   "metadata": {
    "collapsed": true
   },
   "source": [
    "Define $f(x)$, output of the discriminator until some layer."
   ]
  },
  {
   "cell_type": "code",
   "execution_count": 13,
   "metadata": {},
   "outputs": [
    {
     "data": {
      "text/plain": [
       "[<keras.layers.convolutional.Conv2D at 0x2b22ba39b0b8>,\n",
       " <keras.layers.core.Activation at 0x2b22ba39b9e8>,\n",
       " <keras.layers.pooling.MaxPooling2D at 0x2b22ba39b898>,\n",
       " <keras.layers.convolutional.Conv2D at 0x2b22ba39b860>,\n",
       " <keras.layers.core.Activation at 0x2b22ba3a6f28>,\n",
       " <keras.layers.pooling.MaxPooling2D at 0x2b22ba39bd30>,\n",
       " <keras.layers.core.Flatten at 0x2b22ba3bc710>,\n",
       " <keras.layers.core.Dense at 0x2b22ba3bcc88>,\n",
       " <keras.layers.core.Activation at 0x2b22ba3e98d0>,\n",
       " <keras.layers.core.Dense at 0x2b22ba3e9cf8>,\n",
       " <keras.layers.core.Activation at 0x2b22ba400d68>]"
      ]
     },
     "execution_count": 13,
     "metadata": {},
     "output_type": "execute_result"
    }
   ],
   "source": [
    "# display layer options\n",
    "idx_layer = 8 # layer selected\n",
    "# do not use negative numbers because we will loop them further in the notebook\n",
    "discriminator.layers"
   ]
  },
  {
   "cell_type": "code",
   "execution_count": 14,
   "metadata": {},
   "outputs": [
    {
     "data": {
      "text/plain": [
       "<tf.Tensor 'conv2d_5_input:0' shape=(?, 1, 28, 28) dtype=float32>"
      ]
     },
     "execution_count": 14,
     "metadata": {},
     "output_type": "execute_result"
    }
   ],
   "source": [
    "discriminator.layers[0].input"
   ]
  },
  {
   "cell_type": "code",
   "execution_count": 15,
   "metadata": {},
   "outputs": [],
   "source": [
    "# discriminator model until some layer f\n",
    "layer_input = discriminator.layers[0].input\n",
    "layer_output = discriminator.layers[idx_layer].output\n",
    "get_feature_output = K.function([layer_input, K.learning_phase()],\n",
    "                               [layer_output])"
   ]
  },
  {
   "cell_type": "code",
   "execution_count": 16,
   "metadata": {},
   "outputs": [],
   "source": [
    "# obtain f(x) \n",
    "# x.shape must be (None, 1, 28, 28) but we have (1, 28, 28)\n",
    "# expand dimensions to fix it\n",
    "x_expand = np.expand_dims(x, axis=1)\n",
    "f_x = get_feature_output([x_expand, 0])[0] # [x, 0] is input, phase train '1' vs test '0'"
   ]
  },
  {
   "cell_type": "markdown",
   "metadata": {},
   "source": [
    "Create a model that returns $G(z_{i})$ and $f(G(z_{i}))$"
   ]
  },
  {
   "cell_type": "code",
   "execution_count": 17,
   "metadata": {},
   "outputs": [
    {
     "name": "stderr",
     "output_type": "stream",
     "text": [
      "/cadappl/python3/anaconda-3.5.1/lib/python3.5/site-packages/ipykernel_launcher.py:4: UserWarning: Update your `Model` call to the Keras 2 API: `Model(outputs=[<tf.Tenso..., inputs=Tensor(\"de...)`\n",
      "  after removing the cwd from sys.path.\n"
     ]
    }
   ],
   "source": [
    "d_input = g_output = generator.layers[-1].output\n",
    "for i in range(idx_layer+1): # 0,1,...,idx_layer\n",
    "    d_input = discriminator.layers[i](d_input)\n",
    "model_gd_2outputs = Model(input=generator.input, output=[g_output, d_input])"
   ]
  },
  {
   "cell_type": "markdown",
   "metadata": {},
   "source": [
    "Construct the $\\textbf{overall loss}$ using the two previous ingredients."
   ]
  },
  {
   "cell_type": "code",
   "execution_count": 18,
   "metadata": {},
   "outputs": [
    {
     "data": {
      "text/plain": [
       "(<tf.Tensor 'strided_slice:0' shape=(?, 28, 28) dtype=float32>,\n",
       " (28, 28),\n",
       " <tf.Tensor 'activation_11_1/Tanh:0' shape=(?, 1024) dtype=float32>,\n",
       " (1, 1024))"
      ]
     },
     "execution_count": 18,
     "metadata": {},
     "output_type": "execute_result"
    }
   ],
   "source": [
    "# check shapes are the same \n",
    "model_gd_2outputs.output[0][:, 0, :, :], x[0].shape,model_gd_2outputs.output[1], f_x.shape"
   ]
  },
  {
   "cell_type": "code",
   "execution_count": 19,
   "metadata": {},
   "outputs": [],
   "source": [
    "# parameter\n",
    "_lambda = 0.1\n",
    "\n",
    "# overall loss\n",
    "residual_loss = K.mean(k.abs(model_gd_2outputs.output[0][:, 0, :, :] - x[0]))\n",
    "discriminator_loss =  K.mean(k.abs(model_gd_2outputs.output[1] - f_x[0])) \n",
    "overall_loss = (1-_lambda)*(residual_loss) + _lambda*(discriminator_loss)"
   ]
  },
  {
   "cell_type": "markdown",
   "metadata": {},
   "source": [
    "$\\textbf{Gradient descent}$ steps $1, 2, ..., \\gamma$ to minimize the loss"
   ]
  },
  {
   "cell_type": "code",
   "execution_count": 20,
   "metadata": {},
   "outputs": [],
   "source": [
    "# create iterator for gradients\n",
    "input_noise = model_gd_2outputs.input\n",
    "grads = K.gradients(overall_loss, input_noise)[0]\n",
    "grads /= (K.sqrt(K.mean(K.square(grads))) + 1e-5)\n",
    "iterate = K.function([input_noise, K.learning_phase()], [overall_loss, grads])"
   ]
  },
  {
   "cell_type": "code",
   "execution_count": 82,
   "metadata": {},
   "outputs": [],
   "source": [
    "z = z1.copy()\n",
    "step = 1 # here we could reduce the steps over time?\n",
    "nb_descents = 300\n",
    "\n",
    "# run gradient descent for 20 steps\n",
    "for i in range(nb_descents):\n",
    "    loss_value, grads_value = iterate([z, 0])\n",
    "    z -= grads_value * step"
   ]
  },
  {
   "cell_type": "code",
   "execution_count": 26,
   "metadata": {},
   "outputs": [],
   "source": [
    "save_weights = True\n",
    "save_loss = True\n",
    "batch_size = 128\n",
    "epochs = 50\n",
    "latent_size = 100\n",
    "latent_dim = 100\n",
    "LR = 0.0005\n",
    "momentum = 0.9 #0.5\n",
    "_lambda = 0.1\n",
    "step = 1\n",
    "nb_descents = 100\n",
    "def predict(x):\n",
    "       ##### Parameters\n",
    "        z1 = np.random.uniform(-1, 1, (batch_size, latent_dim))\n",
    "        \n",
    "        ##### Overall loss\n",
    "        x_expand = np.expand_dims(x, axis=1) # x.shape must be (None, 1, 28, 28) but we have (1, 28, 28)\n",
    "                                             # if its a single element we need to expand, otherwise leave it\n",
    "        f_x = get_feature_output([x_expand, 0])[0] # [x, 0] is input, phase train '1' vs test '0'\n",
    "\n",
    "        # Loss definition\n",
    "        residual_loss = K.mean(k.abs(model_gd_2outputs.output[0][:, 0, :, :] - x[0]))\n",
    "        discriminator_loss =  K.mean(k.abs(model_gd_2outputs.output[1] - f_x[0])) \n",
    "        overall_loss = (1-_lambda)*(residual_loss) + _lambda*(discriminator_loss)\n",
    "        \n",
    "        # Gradients steps\n",
    "        input_noise = model_gd_2outputs.input\n",
    "        grads = K.gradients(overall_loss, input_noise)[0]\n",
    "        grads /= (K.sqrt(K.mean(K.square(grads))) + 1e-5)\n",
    "        iterate = K.function([input_noise, K.learning_phase()], [overall_loss, grads])\n",
    "        \n",
    "        # loop n gradients steps\n",
    "        z = z1.copy()\n",
    "        for i in range(nb_descents):\n",
    "            loss_value, grads_value = iterate([z, 0])\n",
    "            z -= grads_value * step\n",
    "\n",
    "        return loss_value, generator.predict(z)"
   ]
  },
  {
   "cell_type": "code",
   "execution_count": 38,
   "metadata": {},
   "outputs": [],
   "source": [
    "def scores(x_batch):\n",
    "        return [predict(x)[0] for x in x_batch]"
   ]
  },
  {
   "cell_type": "code",
   "execution_count": 30,
   "metadata": {},
   "outputs": [],
   "source": [
    "x_train_neg_shuffle = np.random.shuffle(x_train_neg)"
   ]
  },
  {
   "cell_type": "code",
   "execution_count": 37,
   "metadata": {},
   "outputs": [
    {
     "data": {
      "text/plain": [
       "numpy.ndarray"
      ]
     },
     "execution_count": 37,
     "metadata": {},
     "output_type": "execute_result"
    }
   ],
   "source": [
    "type(x_train_pos)"
   ]
  },
  {
   "cell_type": "code",
   "execution_count": 39,
   "metadata": {},
   "outputs": [],
   "source": [
    "scores_neg = scores(x_train_neg[:100])\n",
    "scores_pos = scores(x_train_pos[:100])"
   ]
  },
  {
   "cell_type": "code",
   "execution_count": 40,
   "metadata": {},
   "outputs": [
    {
     "data": {
      "text/plain": [
       "<matplotlib.legend.Legend at 0x2b24e8f752b0>"
      ]
     },
     "execution_count": 40,
     "metadata": {},
     "output_type": "execute_result"
    },
    {
     "data": {
      "image/png": "[encoded data removed]",
      "text/plain": [
       "<Figure size 432x288 with 1 Axes>"
      ]
     },
     "metadata": {},
     "output_type": "display_data"
    }
   ],
   "source": [
    "import seaborn as sns\n",
    "plt.figure()\n",
    "ax1 = sns.distplot(scores_pos , hist = False, kde = True,\n",
    "                 kde_kws = {'linewidth': 1, 'shade':True}, label='anomalies',color=\"red\")\n",
    "ax2 = sns.distplot(scores_neg , hist = False, kde = True,\n",
    "                 kde_kws = {'linewidth': 1, 'shade':True}, label='normal samples', color= \"blue\")\n",
    "\n",
    "\n",
    "\n",
    "plt.title('Density function of two Log p(x) using GAN values with MNIST')\n",
    "plt.xlabel('ELBO value')\n",
    "plt.ylabel('Density')\n",
    "plt.legend()"
   ]
  },
  {
   "cell_type": "code",
   "execution_count": 41,
   "metadata": {},
   "outputs": [],
   "source": [
    "y_true_neg = np.zeros([100,1])\n",
    "y_true_pos = np.ones([100,1])\n",
    "y_true = np.concatenate((y_true_neg, y_true_pos))\n",
    "\n",
    "scores_total = np.concatenate((scores_neg, scores_pos))"
   ]
  },
  {
   "cell_type": "code",
   "execution_count": 42,
   "metadata": {},
   "outputs": [],
   "source": [
    "np.save('x_train_likelihood_mnist_gan', scores_total)\n",
    "np.save('y_train_mnist_gan', y_true)"
   ]
  },
  {
   "cell_type": "markdown",
   "metadata": {},
   "source": [
    "Plot image we are interested to explore $x$, our initial random image $G(z_{1})$ and $G(z_{\\gamma})$ after $\\gamma$ steps."
   ]
  },
  {
   "cell_type": "code",
   "execution_count": 83,
   "metadata": {},
   "outputs": [
    {
     "data": {
      "image/png": "[encoded data removed]",
      "text/plain": [
       "<Figure size 720x432 with 3 Axes>"
      ]
     },
     "metadata": {},
     "output_type": "display_data"
    }
   ],
   "source": [
    "x_img = x.squeeze()\n",
    "g_z1 = generator.predict(z1).squeeze()\n",
    "g_zn = generator.predict(z).squeeze()\n",
    "\n",
    "images = [x_img, g_z1, g_zn]\n",
    "names = ['Img target', 'G(z_1)', 'G(z_n)']\n",
    "\n",
    "plt.figure(figsize=(10, 6))\n",
    "plt.figure(1)\n",
    "for idx in range(3):\n",
    "    plt.subplot(1, 3, idx+1)\n",
    "    plt.axis('off')\n",
    "    plt.title(names[idx])\n",
    "    plt.imshow(images[idx], cmap=plt.get_cmap('gray'))\n",
    "plt.show()"
   ]
  },
  {
   "cell_type": "markdown",
   "metadata": {},
   "source": [
    "Remarks\n",
    "\n",
    "Recall number 7 is not part of the unsupervised learning and after 300 descent steps we get $G(z_{\\gamma})$. We could approximate from different initializations the target image by changing z1. Also, how about visualizing 10 steps before arriving to the target image to visualize around this manifold $\\mathcal{X}$"
   ]
  }
 ],
 "metadata": {
  "kernelspec": {
   "display_name": "Python 3",
   "language": "python",
   "name": "python3"
  },
  "language_info": {
   "codemirror_mode": {
    "name": "ipython",
    "version": 3
   },
   "file_extension": ".py",
   "mimetype": "text/x-python",
   "name": "python",
   "nbconvert_exporter": "python",
   "pygments_lexer": "ipython3",
   "version": "3.5.5"
  }
 },
 "nbformat": 4,
 "nbformat_minor": 2
}
